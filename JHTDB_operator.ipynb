{
 "cells": [
  {
   "cell_type": "code",
   "execution_count": null,
   "id": "3d5d69a9-0db4-4acf-a7a3-7cbce47f6e0c",
   "metadata": {},
   "outputs": [],
   "source": [
    "!nvidia-smi"
   ]
  },
  {
   "cell_type": "markdown",
   "id": "1ade13e7-7f4b-473b-836d-6c46795b07bc",
   "metadata": {},
   "source": [
    "# Setup:"
   ]
  },
  {
   "cell_type": "code",
   "execution_count": null,
   "id": "26384c8e-3c6b-41cb-956d-6ce18560369c",
   "metadata": {},
   "outputs": [],
   "source": [
    "%load_ext autoreload\n",
    "%autoreload 2\n",
    "%matplotlib inline\n",
    "import torch\n",
    "from torch import nn\n",
    "import numpy as np\n",
    "import matplotlib.pyplot as plt\n",
    "import pytorch_lightning as L\n",
    "import torch.nn.functional as F\n",
    "import torch.multiprocessing\n",
    "torch.multiprocessing.set_sharing_strategy('file_system')\n",
    "torch.set_float32_matmul_precision('medium')\n",
    "torch.backends.cuda.matmul.allow_tf32 = True\n",
    "torch.backends.cudnn.allow_tf32 = True\n",
    "\n",
    "from utils import *\n",
    "from lightning_utils import *\n",
    "import JHTDB_sim_op\n",
    "\n",
    "import model_agnostic_BNN # the script is now fully compatible with the current model\n",
    "from model_agnostic_BNN import get_BNN_pred_distribution, get_BNN_pred_moments"
   ]
  },
  {
   "cell_type": "code",
   "execution_count": null,
   "id": "3a51ae19-e7db-460b-be4f-de2f1daace7b",
   "metadata": {},
   "outputs": [],
   "source": [
    "#stride=[1.609,1.625,1.203] # WNO\n",
    "stride=1.47 # ablation study\n",
    "#stride=1.0\n",
    "time_chunking=10\n",
    "ablation_models = ['Everything-large', # 0\n",
    "                   'Everything-small', # 1\n",
    "                   'Control-small', # 2\n",
    "                   'Control-No-Output-LN', # 3\n",
    "                   'MixtureOfExperts-normalized-small', # 4\n",
    "                   'MixtureOfExperts-small', # 5\n",
    "                   'RecursiveSteps-small', # 6\n",
    "                   'CNN-small-k4', # 7\n",
    "                   'Everything-small-k4', # 8\n",
    "                   'WNO-800-epochs', # 9\n",
    "                   'Everything-WNO-stride-800-epochs', #10\n",
    "                  ]\n",
    "ablation_model_index = 8\n",
    "model_name = ablation_models[ablation_model_index]"
   ]
  },
  {
   "cell_type": "code",
   "execution_count": null,
   "id": "313a9eb8-efb9-46b9-9cae-bf0e3a4e3b37",
   "metadata": {},
   "outputs": [],
   "source": [
    "########### Parse Model Choice Settings ###########\n",
    "\n",
    "stride=1.47 # ablation study\n",
    "time_chunking=10\n",
    "\n",
    "optional_model_kwd_args = {}\n",
    "\n",
    "# set time chunking and stride based on model type\n",
    "if 'Control' in model_name or 'MixtureOfExperts' in model_name:\n",
    "    time_chunking=2\n",
    "if 'large' in model_name:\n",
    "    stride=1.0\n",
    "if 'WNO' in model_name:\n",
    "    print('using WNO experts')\n",
    "    stride=[1.609,1.625,1.203] # WNO-stride gives 64x16x64\n",
    "    optional_model_kwd_args['make_expert'] = WNO3d\n",
    "elif 'CNN' in model_name:\n",
    "    print('using CNN experts')\n",
    "    CNN_expert = lambda *args, out_norm_groups=1, skip_connections=True, **kwd_args: \\\n",
    "        CNN(*args, out_norm_groups=out_norm_groups, skip_connections=skip_connections, **kwd_args)\n",
    "    optional_model_kwd_args['make_expert'] = CNN_expert\n",
    "\n",
    "print(f'{model_name=}, {stride=}, {time_chunking=}')"
   ]
  },
  {
   "cell_type": "markdown",
   "id": "a97079d6-d681-4868-aa53-a34e77ae2fec",
   "metadata": {},
   "source": [
    "# Data Loading:"
   ]
  },
  {
   "cell_type": "code",
   "execution_count": null,
   "id": "6f5c2ec0-fba6-4dba-a360-f977f759c791",
   "metadata": {},
   "outputs": [],
   "source": [
    "import torch\n",
    "import JHTDB_sim_op\n",
    "import pytorch_lightning as L\n",
    "\n",
    "# preserves random state\n",
    "def preload_dataset(dataset):\n",
    "    Xs, ys = [], []\n",
    "    for i in range(len(dataset)):\n",
    "        X, y = dataset[i]\n",
    "        Xs.append(X)\n",
    "        ys.append(y)\n",
    "    Xs, ys = torch.stack(Xs), torch.stack(ys)\n",
    "    print(f'dataset min={min(Xs.min(),ys.min())}, max={max(Xs.max(),ys.max())}')\n",
    "    return torch.utils.data.TensorDataset(Xs, ys)\n",
    "\n",
    "def peek_random(verbose=True): # Use fork_rng() to peek at the next random number\n",
    "    with torch.random.fork_rng():\n",
    "        rand_peek = torch.randn([]).item()\n",
    "        if verbose: print(f'{rand_peek=:.5}') # sanity check RNG\n",
    "    return rand_peek\n",
    "\n",
    "def recreate_datasets(path, time_chunking=10, stride=1, full_long_horizon=False):\n",
    "    L.seed_everything(0)\n",
    "    long_horizon=100\n",
    "    full_dataset = JHTDB_sim_op.JHTDB_Channel('data/turbulence_output', time_chunking=time_chunking, stride=stride)\n",
    "    dataset_long_horizon = JHTDB_sim_op.JHTDB_Channel('data/turbulence_output', time_chunking=long_horizon, stride=stride) # called dataloader_idx_1 in tensorboard\n",
    "    assert f'{peek_random():.5}'=='1.541'\n",
    "    _, val_long_horizon = torch.utils.data.random_split(dataset_long_horizon, [0.5, 0.5]) # 50% ensures there are two validation steps\n",
    "    assert f'{peek_random():.5}'=='2.2628'\n",
    "    train_dataset, val_dataset = torch.utils.data.random_split(full_dataset, [0.8, 0.2])\n",
    "    if full_long_horizon: val_long_horizon=dataset_long_horizon\n",
    "    return full_dataset, train_dataset, val_dataset, val_long_horizon"
   ]
  },
  {
   "cell_type": "code",
   "execution_count": null,
   "id": "effe49bf-57df-4a7a-bd45-fe1d96157578",
   "metadata": {},
   "outputs": [],
   "source": [
    "dataset, train_dataset, val_dataset, val_long_horizon = recreate_datasets('data/turbulence_output', time_chunking=time_chunking, stride=stride)\n",
    "#val_dataset, val_long_horizon = preload_dataset(val_dataset), preload_dataset(val_long_horizon)"
   ]
  },
  {
   "cell_type": "code",
   "execution_count": null,
   "id": "72beef4d-4970-439d-aeeb-f26604046cdf",
   "metadata": {},
   "outputs": [],
   "source": [
    "X, y = dataset[0]\n",
    "Xy = torch.cat([X[...,None], y],axis=-1) # recombine!\n",
    "print(f'{Xy.shape=}, {X.shape=}, {y.shape=}')\n",
    "\n",
    "field_size = list(X.shape[1:])\n",
    "print(f'{field_size=}')"
   ]
  },
  {
   "cell_type": "code",
   "execution_count": null,
   "id": "bc9e930a-beca-47ab-acd4-89e566065df9",
   "metadata": {},
   "outputs": [],
   "source": [
    "import numpy as np\n",
    "def make_4d_sim_fig(sim_data, vel_comp_idx:int, prefix='', time_stride=999, num_z=4, vel_component_name = ['X','Y','Z']):\n",
    "    from grid_figures import GridFigure\n",
    "    fig = GridFigure(f'{prefix}3d Channel Flow: {vel_component_name[vel_comp_idx]} Velocity')\n",
    "    sim_data = sim_data.cpu()\n",
    "    for z in np.linspace(0, sim_data.shape[-2]-1, num=num_z, dtype=int):\n",
    "        fig.add_3d_row(sim_data[vel_comp_idx,:,:,z], f'{z=}', x_title_func=lambda t: f't={t*time_stride}',\n",
    "                       img_getter=lambda array_3d, t: array_3d[:,:,t].T, time_samples=list(range(sim_data.shape[-1])))\n",
    "    fig.show()\n",
    "\n",
    "make_4d_sim_fig(Xy, 0, time_stride=1, num_z=field_size[-1]//8)"
   ]
  },
  {
   "cell_type": "markdown",
   "id": "89f060dd-8f36-4363-8c60-900384829515",
   "metadata": {},
   "source": [
    "### Here we load the actual DNS dataset:"
   ]
  },
  {
   "cell_type": "code",
   "execution_count": null,
   "id": "06f51c72-0718-46f4-b4cc-85dfd4487340",
   "metadata": {},
   "outputs": [],
   "source": [
    "'''\n",
    "def load_full_dataset_field(dataset_path, stride=1):\n",
    "    import os\n",
    "    cache_path = f'{dataset_path}/full_field_cache_stride={stride}.pt'\n",
    "    if os.path.exists(cache_path): # almost x3 faster!\n",
    "        print('loading from cache!')\n",
    "        return torch.load(cache_path)\n",
    "\n",
    "    dataset = JHTDB_sim_op.JHTDB_Channel(dataset_path, time_chunking=1, stride=stride)\n",
    "    data_loader = torch.utils.data.DataLoader(dataset, batch_size=1, num_workers=16)\n",
    "    x, _ = next(iter(data_loader))\n",
    "    print(f'{x.shape=}')\n",
    "\n",
    "    full_field = torch.stack([x.squeeze() for x, _ in data_loader], axis=-1)\n",
    "    print(f'{full_field.shape=}, {full_field.device=}')\n",
    "    torch.save(full_field, cache_path)\n",
    "    return full_field\n",
    "import time\n",
    "start_time = time.time()\n",
    "real_channel_flow = load_full_dataset_field('data/turbulence_output', stride=stride).detach() # should we stride?\n",
    "\n",
    "field_size = list(real_channel_flow.shape[1:-1])\n",
    "print(f'{field_size=}')\n",
    "\n",
    "print(f'loading duration (sec): {time.time()-start_time}')\n",
    "''';"
   ]
  },
  {
   "cell_type": "code",
   "execution_count": null,
   "id": "ed9bb605-3de0-4ee5-b1eb-ad2808401d4e",
   "metadata": {},
   "outputs": [],
   "source": [
    "import sys\n",
    "sys.path.append('./WNO/Version_2.0.0')\n",
    "from wno3d_NS import WNO3d\n",
    "\n",
    "from glob import glob\n",
    "get_best_long_horizon_model = lambda ckpt_dir: sorted(glob(f'{ckpt_dir}/*.ckpt'))[0] # 'last.ckpt' comes after 'epoch*.ckpt' alphabetically (epoch*.ckpt is the \"best long horizon model\")\n",
    "get_best_long_horizon_model('./lightning_logs/paper/Control-No-Output-LN')\n",
    "\n",
    "# wrapper to nullify the prior_cfg kwd_arg (for compatibility)\n",
    "from JHTDB_sim_op import POU_NetSimulator, PPOU_NetSimulator\n",
    "class POU_NetSimulator(POU_NetSimulator):\n",
    "    def __init__(self, *args, prior_cfg={}, train_dataset_size=None, **kwd_args):\n",
    "        super().__init__(*args, **kwd_args)\n",
    "\n",
    "# deprecated\n",
    "def concat_forward_wrap_VI_model(VI_model):\n",
    "    import copy\n",
    "    class ConcatForwardWrapper(type(VI_model)):\n",
    "        def forward(self, *args, **kwd_args):\n",
    "            mu, sigma = super().forward(*args, **kwd_args)\n",
    "            return torch.cat([mu, sigma],axis=1)\n",
    "    VI_model = copy.copy(VI_model)\n",
    "    VI_model.__class__ = ConcatForwardWrapper # wrap the forward to concatenate the outputs\n",
    "    return VI_model\n",
    "\n",
    "class PredMomentsWrapper(PPOU_NetSimulator):\n",
    "    def forward(self, x_inputs, **kwd_args):\n",
    "        if PredMomentsWrapper.n_moment_samples>1:\n",
    "            mu, sigma = get_BNN_pred_moments(super().forward, x_inputs, \n",
    "                                             n_samples=PredMomentsWrapper.n_moment_samples, **kwd_args)\n",
    "        else: mu, sigma = super().forward(x_inputs, **kwd_args)\n",
    "        return mu, sigma\n",
    "PredMomentsWrapper.n_moment_samples=1\n",
    "\n",
    "import utils\n",
    "\n",
    "def load_model(path, device='cuda', override_class=PPOU_NetSimulator, **kwd_args):\n",
    "    ''' Wraps up all the nonsense involved in loading an inference model properly into one function. '''\n",
    "    # user-provided kwd_args has precedence in update\n",
    "    kwd_args = {'n_inputs': 3, 'n_outputs': 3, 'ndims': 3} | kwd_args\n",
    "\n",
    "    print(f'loading model from path: {path}')\n",
    "    try:\n",
    "        print('loading VI model...')\n",
    "        simulator = override_class.Sim(*field_size) # Sim(ulator) class (e.g. Sim or Sim_UQ), first 3 args are X,Y,Z dimensions\n",
    "        model = override_class.load_from_checkpoint(path, simulator=simulator, **kwd_args)\n",
    "    except Exception as e:\n",
    "        try:\n",
    "            fail=False\n",
    "            print('loading deterministic model...')\n",
    "            POU_NetSimulator.Sim(*field_size)\n",
    "            model = POU_NetSimulator.load_from_checkpoint(path, simulator=simulator, **kwd_args)\n",
    "        except: fail=True\n",
    "        if fail: raise\n",
    "\n",
    "    model = model.to(device)\n",
    "    model.eval()\n",
    "\n",
    "    print(f'num model parameters: {utils.count_parameters(model):.5e}')\n",
    "\n",
    "    # freeze everything\n",
    "    for parameter in model.parameters():\n",
    "        parameter.requires_grad=False\n",
    "    print('done!')\n",
    "    return model\n",
    "\n",
    "'''\n",
    "ablation_models = ['Everything-large', # 0\n",
    "                   'Everything-small', # 1\n",
    "                   'Control-small', # 2\n",
    "                   'Control-No-Output-LN', # 3\n",
    "                   'MixtureOfExperts-normalized-small', # 4\n",
    "                   'MixtureOfExperts-small', # 5\n",
    "                   'RecursiveSteps-small'] # 6\n",
    "#ablation_model_index = 3\n",
    "''';\n",
    "\n",
    "#model = load_model(get_best_long_horizon_model('./lightning_logs/paper/WNO-150-epochs'), make_expert=WNO3d)\n",
    "#optional_model_kwd_args = {}\n",
    "model = load_model(f'./lightning_logs/paper/{model_name}/last.ckpt', override_class=PredMomentsWrapper, **optional_model_kwd_args)\n",
    "sim_model = model.simulator"
   ]
  },
  {
   "cell_type": "code",
   "execution_count": null,
   "id": "e2d0eeb3-3d7b-41e0-a4d7-8c2f10ad9840",
   "metadata": {},
   "outputs": [],
   "source": [
    "#dataset, train_dataset, val_dataset, val_long_horizon\n",
    "val_loader = torch.utils.data.DataLoader(val_dataset, batch_size=16, num_workers=4)\n",
    "val_long_loader = torch.utils.data.DataLoader(val_long_horizon, batch_size=4, num_workers=2)"
   ]
  },
  {
   "cell_type": "code",
   "execution_count": null,
   "id": "2a8df318-a6d3-4764-b273-67f59a98c1c4",
   "metadata": {
    "scrolled": true
   },
   "outputs": [],
   "source": [
    "L.seed_everything(0)\n",
    "\n",
    "#concat_model = concat_forward_wrap_VI_model(model.cuda())\n",
    "\n",
    "import model_agnostic_BNN\n",
    "LPPC_val = model_agnostic_BNN.log_posterior_predictive_check(model, val_loader)\n",
    "print(f'{LPPC_val=}')\n",
    "#org_steps=model.n_steps\n",
    "#model.n_steps=99\n",
    "LPPC_val_long = model_agnostic_BNN.log_posterior_predictive_check(model, val_long_loader, n_steps=99)\n",
    "print(f'{LPPC_val_long=}')\n",
    "#model.n_steps=org_steps"
   ]
  },
  {
   "cell_type": "code",
   "execution_count": null,
   "id": "32902f98-e577-41c8-9898-61d0f250f9dd",
   "metadata": {},
   "outputs": [],
   "source": [
    "L.seed_everything(0)\n",
    "PredMomentsWrapper.n_moment_samples=25\n",
    "trainer = L.Trainer()\n",
    "val_dataloaders = [val_loader, val_long_loader] # long validation loader causes various problems with profiler & GPU utilization...\n",
    "trainer.validate(model=model, dataloaders=val_dataloaders)\n",
    "PredMomentsWrapper.n_moment_samples=1"
   ]
  },
  {
   "cell_type": "code",
   "execution_count": null,
   "id": "caab5a42-c73f-40d0-ad91-badb11e17167",
   "metadata": {},
   "outputs": [],
   "source": [
    "import utils\n",
    "print(f'num model parameters: {utils.count_parameters(concat_model):.5e}')"
   ]
  },
  {
   "cell_type": "markdown",
   "id": "300ae086-5d87-4d43-818d-ed93eaf5cdb8",
   "metadata": {},
   "source": [
    "# 3d Expert Partitions"
   ]
  },
  {
   "cell_type": "code",
   "execution_count": null,
   "id": "6182755d-36c5-42df-becd-63a86132846a",
   "metadata": {},
   "outputs": [],
   "source": [
    "u0 = sim_model.genIC().detach() # random IC\n",
    "gating_weights, topk = model.gating_net(u0[None])\n",
    "topk_sort_idx = torch.argsort(topk)\n",
    "gating_weights, topk = gating_weights[:,topk_sort_idx], topk[topk_sort_idx]\n",
    "gating_weights = gating_weights[0].cpu() # ditch batch dim & move to cpu\n",
    "print(f'{gating_weights.shape=}')"
   ]
  },
  {
   "cell_type": "code",
   "execution_count": null,
   "id": "44de2037-74b5-467e-8406-ca3dfcb2edbb",
   "metadata": {},
   "outputs": [],
   "source": [
    "# add the zero expert weight\n",
    "ones = torch.ones(1,*gating_weights.shape[1:], dtype=gating_weights.dtype, device=gating_weights.device)\n",
    "zero_weight = ones - gating_weights.sum(axis=0)\n",
    "gating_weights = torch.cat([zero_weight, gating_weights], axis=0)\n",
    "print(f'{gating_weights.shape=}')"
   ]
  },
  {
   "cell_type": "code",
   "execution_count": null,
   "id": "349e5c79-6e98-4b17-8223-9b6e8d739f8f",
   "metadata": {},
   "outputs": [],
   "source": [
    "# check if others are different? turns out the others are used a little bit\n",
    "print('spatially averaged gating weights for each expert:', torch.vmap(torch.mean)(gating_weights).numpy())"
   ]
  },
  {
   "cell_type": "code",
   "execution_count": null,
   "id": "1a80ffff-c44d-4abd-bcdb-8e0852573970",
   "metadata": {},
   "outputs": [],
   "source": [
    "from grid_figures import GridFigure\n",
    "fig = GridFigure(f'3d Expert Partitions', y_title_vertical=False)\n",
    "\n",
    "print('NOTE: expert #0 is also literally the \"Zero Expert\"')\n",
    "for expert_i in range(gating_weights.shape[0]):\n",
    "    fig.add_3d_row(gating_weights[expert_i], f'expert #{expert_i}', x_title_func=lambda t: f'z={t}',\n",
    "                   img_getter=lambda array_3d, t: array_3d[:,:,t].T, time_samples=list(range(0,field_size[-1],10)))\n",
    "fig.show()"
   ]
  },
  {
   "cell_type": "code",
   "execution_count": null,
   "id": "9fb01a78-972e-41c4-a1e8-83757654b414",
   "metadata": {},
   "outputs": [],
   "source": [
    "from utils import StopExecution\n",
    "raise StopExecution"
   ]
  },
  {
   "cell_type": "markdown",
   "id": "53e4e18d-8853-450d-80a9-956de289deb5",
   "metadata": {},
   "source": [
    "# Run Simulations\n",
    "(Choose of the methods below, and run just that)"
   ]
  },
  {
   "cell_type": "markdown",
   "id": "d26832cd-1bfd-4abf-9a5d-f8927a811ed6",
   "metadata": {},
   "source": [
    "## Run Regular Simulation:\n",
    "(with one epistemic sample or deterministic model)"
   ]
  },
  {
   "cell_type": "code",
   "execution_count": null,
   "id": "f76b9ee4-3d05-41df-a68a-8dde681390d5",
   "metadata": {
    "scrolled": true
   },
   "outputs": [],
   "source": [
    "%pdb off\n",
    "#u0 = sim_model.genIC().detach() # random IC\n",
    "u0 = real_channel_flow[..., 0].to(model.device)\n",
    "with torch.inference_mode():\n",
    "    sim_steps = model(u0, n_steps=4000, intermediate_output_stride=999)\n",
    "    #sim_steps = sim_model.evolve(u0, n=4001, intermediate_outputs=True, intermediate_output_stride=999)\n",
    "\n",
    "# handle uq\n",
    "if type(sim_steps) is tuple:\n",
    "    assert len(sim_steps)==2\n",
    "    sim_steps, sim_steps_uq = sim_steps # keep them seperate so later code works\n",
    "    sim_steps_uq=sim_steps_uq.cpu()\n",
    "sim_steps = sim_steps.cpu()"
   ]
  },
  {
   "cell_type": "markdown",
   "id": "8b87228d-18df-4fc8-82f2-2687825a3559",
   "metadata": {},
   "source": [
    "## Run UQ Simulations\n",
    "(choose one of the UQ-oriented methods below)"
   ]
  },
  {
   "cell_type": "code",
   "execution_count": null,
   "id": "cc725ff3-784c-4c1c-9acb-7d4f5cc68776",
   "metadata": {
    "scrolled": true
   },
   "outputs": [],
   "source": [
    "%pdb off\n",
    "\n",
    "import model_agnostic_BNN # the script is now fully compatible with the current model\n",
    "from model_agnostic_BNN import get_BNN_pred_distribution, get_BNN_pred_moments\n",
    "\n",
    "# TODO: modify below so that it can handle sparisty of the f40 dataset\n",
    "# wrapper of above that also computes absolute error & has custom logic for the problem\n",
    "def get_BNN_pred_moments_and_error(model, dataset, n_samples=10, n_steps=4000, intermediate_output_stride=999, **kwd_args):\n",
    "    u0 = dataset[..., 0].to(model.device)\n",
    "    sim_steps, sim_steps_uq = get_BNN_pred_moments(model, u0, n_samples=n_samples, n_steps=n_steps,\n",
    "                                                   intermediate_output_stride=intermediate_output_stride, **kwd_args)\n",
    "    with torch.inference_mode():\n",
    "        abs_error = (dataset[...,::intermediate_output_stride]-sim_steps).abs()\n",
    "    return sim_steps.cpu().detach(), sim_steps_uq.cpu().detach(), abs_error.cpu().detach()"
   ]
  },
  {
   "cell_type": "code",
   "execution_count": null,
   "id": "86f284ad-ac64-491e-bc8c-4eb21ccd22ec",
   "metadata": {},
   "outputs": [],
   "source": [
    "'''\n",
    "u0 = real_channel_flow[..., 0].to(model.device)\n",
    "mu, sigma = get_BNN_pred_moments(model, u0, n_samples=10, n_steps=4000)\n",
    "''';"
   ]
  },
  {
   "cell_type": "markdown",
   "id": "cffc16e3-44c0-44d3-9f3f-e93bc9565b5e",
   "metadata": {},
   "source": [
    "### Sample Learned Simulation Predictive Distribution (Aleatoric and Epistemic Uncertainty)"
   ]
  },
  {
   "cell_type": "code",
   "execution_count": null,
   "id": "9ff1c656-88b4-456d-9b62-31a97df5a0b1",
   "metadata": {},
   "outputs": [],
   "source": [
    "u0 = real_channel_flow[..., 0].to(model.device)\n",
    "pred_distribution = get_BNN_pred_distribution(model, u0, n_samples=10, n_steps=4000, intermediate_output_stride=999)\n",
    "pred_distribution = torch.distributions.normal.Normal(*pred_distribution)#, validate_args=False)\n",
    "pred_samples = pred_distribution.sample() # then sample the actual predictions from the sampled aleatoric distributions\n",
    "\n",
    "print(f'pred_samples size GBs: {np.prod(pred_samples.shape)*4/1e9}')\n",
    "tshow(pred_samples)"
   ]
  },
  {
   "cell_type": "markdown",
   "id": "a43074de-3a25-4914-b8a1-5e3f423ec8f3",
   "metadata": {},
   "source": [
    "### Or Get Predictive Distribution Median and IQR"
   ]
  },
  {
   "cell_type": "code",
   "execution_count": null,
   "id": "8113017f-3df5-4aa7-89c8-a2638cf9cd3f",
   "metadata": {
    "scrolled": true
   },
   "outputs": [],
   "source": [
    "def torch_IQR(tensor, axis=None):\n",
    "    upper_quantile = tensor.quantile(0.75, axis=axis)\n",
    "    lower_quantile = tensor.quantile(0.25, axis=axis)\n",
    "    IQR = (upper_quantile-lower_quantile).abs()\n",
    "    return IQR\n",
    "\n",
    "pred_median = pred_samples.median(axis=0).values.cpu()\n",
    "pred_IQR = torch_IQR(pred_samples, axis=0).cpu()"
   ]
  },
  {
   "cell_type": "code",
   "execution_count": null,
   "id": "59dc0195-0b05-4443-971a-c7241eecee66",
   "metadata": {},
   "outputs": [],
   "source": [
    "sim_steps, sim_steps_uq = pred_median, pred_IQR\n",
    "tshow(sim_steps)\n",
    "tshow(sim_steps_uq)"
   ]
  },
  {
   "cell_type": "markdown",
   "id": "fad9cb7e-d282-4621-ab9e-0c0630898dfd",
   "metadata": {},
   "source": [
    "### Or Directly Compute Predictive Distribution Mean and Variance using Law of Total Variance (more sample efficient)"
   ]
  },
  {
   "cell_type": "code",
   "execution_count": null,
   "id": "d62228fd-2a72-4163-8535-5f819e95c3df",
   "metadata": {},
   "outputs": [],
   "source": [
    "u0 = real_channel_flow[..., 0].to(model.device)\n",
    "sim_steps, sim_steps_uq, abs_error = get_BNN_pred_moments_and_error(model, real_channel_flow)\n",
    "sim_steps_OOD, sim_steps_uq_OOD, abs_error_OOD = get_BNN_pred_moments_and_error(model, no_filter_channel_flow)"
   ]
  },
  {
   "cell_type": "code",
   "execution_count": null,
   "id": "77792b84-5930-44c4-b2ba-6cbccbe629e0",
   "metadata": {},
   "outputs": [],
   "source": [
    "print(f'{u0.shape=}\\n{sim_steps.shape=}\\n{real_channel_flow.shape=}')"
   ]
  },
  {
   "cell_type": "markdown",
   "id": "733d4d3b-a1c9-4b2f-aa19-9b3915b5ecd7",
   "metadata": {},
   "source": [
    "## Display Simulation:"
   ]
  },
  {
   "cell_type": "code",
   "execution_count": null,
   "id": "6006c12e-9dea-429d-91c1-fcd883448288",
   "metadata": {
    "scrolled": true
   },
   "outputs": [],
   "source": [
    "'''\n",
    "def make_4d_sim_fig(sim_data, vel_comp_idx:int, prefix='', time_stride=999, vel_component_name = ['X','Y','Z']):\n",
    "    from grid_figures import GridFigure\n",
    "    fig = GridFigure(f'{prefix}3d Channel Flow: {vel_component_name[vel_comp_idx]} Velocity')\n",
    "    sim_data = sim_data.cpu()\n",
    "    for z in np.linspace(0, sim_data.shape[-2]-1, num=4, dtype=int):\n",
    "        fig.add_3d_row(sim_data[vel_comp_idx,:,:,z], f'{z=}', x_title_func=lambda t: f't={t*time_stride}',\n",
    "                       img_getter=lambda array_3d, t: array_3d[:,:,t].T, time_samples=list(range(sim_data.shape[-1])))\n",
    "    fig.show()\n",
    "''';\n",
    "\n",
    "def create_all_simulation_figs(predicted_sim_steps, true_sim_steps=None, predicted_prefix='Learned ', true_prefix='DNS ',\n",
    "                               time_stride=999, true_data_already_sparse=False):\n",
    "    if not true_data_already_sparse:\n",
    "        true_sim_steps = true_sim_steps[...,::time_stride]\n",
    "    for i in range(3):\n",
    "        print('#'*50 + f'\\n{predicted_prefix}Simulation:')\n",
    "        make_4d_sim_fig(predicted_sim_steps, i, time_stride=time_stride, prefix=predicted_prefix)\n",
    "        if true_sim_steps is not None:\n",
    "            print('#'*50 + f'\\n{true_prefix}Simulation:')\n",
    "            make_4d_sim_fig(true_sim_steps, i, time_stride=time_stride, prefix=true_prefix)\n",
    "\n",
    "import random\n",
    "create_all_simulation_figs(sim_steps, real_channel_flow)"
   ]
  },
  {
   "attachments": {
    "524a632d-3843-4fc6-b640-edba1e83601e.png": {
     "image/png": "[encoded data removed]"
    }
   },
   "cell_type": "markdown",
   "id": "39fc60ff-9e19-4bfc-9723-4b2150032a0e",
   "metadata": {},
   "source": [
    "# Ravi's Implementation of Energy Spectrum:\n",
    "**Ravi's FLow Stats Equations:**\n",
    "\n",
    "A good place to start is looking at the energy spectrum which describes how the energy is distributed across wavelengths.\n",
    "Here’s how to get it: <br>\n",
    "![Ravi's FLow Stats Equations](attachment:524a632d-3843-4fc6-b640-edba1e83601e.png)\n",
    "\n",
    "NOTE: Below is my implementation of the the energy spectrum stats code."
   ]
  },
  {
   "cell_type": "code",
   "execution_count": null,
   "id": "19befd81-c40d-4a0e-91ac-adb8daa853fa",
   "metadata": {},
   "outputs": [],
   "source": [
    "import numpy as np\n",
    "import matplotlib.pyplot as plt\n",
    "\n",
    "def E(u):\n",
    "    uh = np.fft.rfftn(u,axes=[0,2])\n",
    "    return np.sum(np.abs(uh)**2,axis=-1)\n",
    "\n",
    "def npmap(f,a):\n",
    "    return np.array(list(map(f,a)))\n",
    "\n",
    "def E1d(u,epsilon_multiplier=1.,nk=30,Lx=8*np.pi,Ly=2.0,Lz=3*np.pi):\n",
    "\n",
    "    '''\n",
    "\n",
    "    arguments:\n",
    "\n",
    "        Lx,Ly,Lz: domain lengths\n",
    "\n",
    "        epsilon_multiplier: for width of ring to project to point\n",
    "\n",
    "        nk: number of points along radius to project on to\n",
    "\n",
    "        u: input function (**IMPORTANT**: channel dimension now comes first!)\n",
    "\n",
    "    output: \n",
    "        energy spectrum from u. First axis is the energy spectrum. Second is y coordinate\n",
    "    '''\n",
    "    u = u.moveaxis(0,-1) # we need to move the channel dimension (usually infront) to back for compatibility\n",
    "    \n",
    "    nx,ny,nz = u.shape[0:-1]\n",
    "    kx = np.fft.fftfreq(nx,d=Lx/nx)\n",
    "    kz = np.fft.rfftfreq(nz,d=Lz/nz)\n",
    "    dk = np.sqrt(kx[1]**2 + kz[1]**2)\n",
    "    epsilon = epsilon_multiplier*dk\n",
    "    Kxz = np.stack(np.meshgrid(kx,kz,indexing='ij'),axis=-1)\n",
    "    K = np.sqrt(Kxz[...,0]**2 + Kxz[...,1]**2)\n",
    "    k = np.linspace(0,min(np.max(kx),np.max(kz)),nk)\n",
    "    Eu = E(u)\n",
    "    return k,2.*np.transpose(npmap(\n",
    "        lambda j:npmap(\n",
    "            lambda ki:np.sum(Eu[:,j][np.abs(K-ki)<epsilon]),\n",
    "            k),\n",
    "        np.arange(ny)))\n",
    "\n",
    "# This has incomplete support for UQ, take a look at it and develop it further.\n",
    "# Right now there should be an error bar on the 2nd plot only.\n",
    "def make_energy_spectrum_figure(u, uq=None, k_min=0.0, **kwd_args):\n",
    "    k,Ek = E1d(u, **kwd_args)\n",
    "    plt.loglog(k,Ek[:,1:-1])\n",
    "    y = k**(-5/3)\n",
    "    plt.plot(k,3e5*y,'r--',linewidth=4)\n",
    "    plt.xlabel(r'$k$')\n",
    "    plt.ylabel(r'$\\hat{E}(u)$')\n",
    "    plt.figure()\n",
    "    \n",
    "    plt.plot(k[k>k_min],1e5*y[k>k_min],'r--',linewidth=4)\n",
    "    if uq is None:\n",
    "        plt.loglog(k[k>k_min],np.mean(Ek[k>k_min],axis=1))\n",
    "    else:\n",
    "        plt.xscale('log')\n",
    "        plt.yscale('log')\n",
    "        k,Ek_plus = E1d(u+uq, **kwd_args) # upper bound\n",
    "        k,Ek_minus = E1d(u-uq, **kwd_args) # lower bound\n",
    "        yerr = np.mean(((Ek_plus[k>k_min]-Ek_minus[k>k_min])**2)**0.5, axis=1)/2 # central difference\n",
    "        plt.errorbar(k[k>k_min], np.mean(Ek[k>k_min],axis=1), yerr=yerr)"
   ]
  },
  {
   "cell_type": "markdown",
   "id": "ccaa14e0-1bf3-4368-bdcd-9844b95ad20b",
   "metadata": {},
   "source": [
    "## Make Energy Spectrum Figure for DNS"
   ]
  },
  {
   "cell_type": "code",
   "execution_count": null,
   "id": "dbf0937f-59f7-40ae-b5cf-066a84fe971b",
   "metadata": {},
   "outputs": [],
   "source": [
    "make_energy_spectrum_figure(real_channel_flow[...,-1], k_min=1.0, epsilon_multiplier=0.5) # use last timestep"
   ]
  },
  {
   "cell_type": "markdown",
   "id": "0fa4af23-24de-40c0-81bf-af537f57e2ba",
   "metadata": {},
   "source": [
    "## Make Energy Spectrum Figure for Learned Simulation"
   ]
  },
  {
   "cell_type": "code",
   "execution_count": null,
   "id": "8d975c3b-8a21-4570-8ba5-772f01e31702",
   "metadata": {},
   "outputs": [],
   "source": [
    "make_energy_spectrum_figure(sim_steps[..., -1], k_min=1.0, epsilon_multiplier=0.5) # use last timestep"
   ]
  },
  {
   "cell_type": "markdown",
   "id": "cdc03859-8a6f-43ce-968d-29c35fdb5dd8",
   "metadata": {},
   "source": [
    "## Create confidence 95% interval for mean energy spectrum\n",
    "Technically for this be a real confidence interval you need to use the very first \"Regular Simulation\" option, \\\n",
    "otherwise you get a mixture distribution from sampling epistemic uncertainty..."
   ]
  },
  {
   "cell_type": "code",
   "execution_count": null,
   "id": "285184cc-0c29-4cdd-a196-40120c69c033",
   "metadata": {},
   "outputs": [],
   "source": [
    "%pdb on\n",
    "make_energy_spectrum_figure(sim_steps[..., -1], sim_steps_uq[...,-1]*1.96, k_min=0.0, epsilon_multiplier=0.5)"
   ]
  }
 ],
 "metadata": {
  "kernelspec": {
   "display_name": "Python 3 (ipykernel)",
   "language": "python",
   "name": "python3"
  },
  "language_info": {
   "codemirror_mode": {
    "name": "ipython",
    "version": 3
   },
   "file_extension": ".py",
   "mimetype": "text/x-python",
   "name": "python",
   "nbconvert_exporter": "python",
   "pygments_lexer": "ipython3",
   "version": "3.11.0"
  }
 },
 "nbformat": 4,
 "nbformat_minor": 5
}
