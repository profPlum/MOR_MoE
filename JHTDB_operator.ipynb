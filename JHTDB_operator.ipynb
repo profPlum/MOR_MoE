{
 "cells": [
  {
   "cell_type": "code",
   "execution_count": null,
   "id": "c72a465d-256a-48f1-bd82-0a4ed57273a9",
   "metadata": {},
   "outputs": [],
   "source": [
    "%load_ext autoreload\n",
    "%autoreload 2\n",
    "%matplotlib inline\n",
    "import torch\n",
    "from torch import nn\n",
    "import numpy as np\n",
    "import matplotlib.pyplot as plt\n",
    "import pytorch_lightning as L\n",
    "import torch.nn.functional as F"
   ]
  },
  {
   "cell_type": "code",
   "execution_count": null,
   "id": "bf542dae-9e34-4997-9eda-019676dc3a85",
   "metadata": {},
   "outputs": [],
   "source": [
    "from lightning_utils import *\n",
    "from MOR_Operator import MOR_Operator\n",
    "from POU_net import POU_net"
   ]
  },
  {
   "cell_type": "code",
   "execution_count": null,
   "id": "31d288ff-74bb-4a24-ae9e-5462629b2343",
   "metadata": {},
   "outputs": [],
   "source": [
    "import os\n",
    "import h5py\n",
    "\n",
    "# TODO: load & store dataset in one big hdf5 file (more efficient I/O)\n",
    "class JHTDB_Channel(torch.utils.data.Dataset):\n",
    "    def __init__(self, path:str, time_chunking=20):\n",
    "        self.path=path\n",
    "        self.time_chunking=time_chunking\n",
    "    def __len__(self):\n",
    "        return len(os.listdir(self.path))//(2*self.time_chunking)\n",
    "    def __getitem__(self, index):\n",
    "        files = []\n",
    "        velocity_fields = []\n",
    "        for i in range(index*self.time_chunking, (index+1)*self.time_chunking):\n",
    "            i+=1\n",
    "            files.append(h5py.File(f'{self.path}/channel_t={i}.h5', 'r')) # keep open for stacking\n",
    "            velocity_fields.append(files[-1][f'Velocity_{i:04}']) # :04 zero pads to 4 digits\n",
    "        velocity_fields = torch.as_tensor(np.stack(velocity_fields))\n",
    "        return velocity_fields[0], velocity_fields[1:] # X=IC, Y=sol"
   ]
  },
  {
   "cell_type": "code",
   "execution_count": null,
   "id": "785df1b2-19bb-460f-b9d5-6988f11c552b",
   "metadata": {},
   "outputs": [],
   "source": [
    "dataset = JHTDB_Channel('data/turbulence_output')\n",
    "train_len = int(0.8*len(dataset))\n",
    "train_dataset, val_dataset = torch.utils.data.random_split(dataset, [train_len, len(dataset)-train_len])\n",
    "train_loader = torch.utils.data.DataLoader(train_dataset, batch_size=2, num_workers=16, pin_memory=True)\n",
    "val_loader = torch.utils.data.DataLoader(val_dataset, batch_size=2, num_workers=8)\n",
    "print(f'{len(dataset)=}\\n{len(train_loader)=}\\n{len(val_dataset)=}')"
   ]
  },
  {
   "cell_type": "code",
   "execution_count": null,
   "id": "95067b4a-3387-4f93-8b0a-1f4820a6a30b",
   "metadata": {},
   "outputs": [],
   "source": [
    "IC_0, Sol_0 = dataset[0]\n",
    "print(f'{IC_0.shape=}\\n{Sol_0.shape=}')"
   ]
  },
  {
   "cell_type": "code",
   "execution_count": null,
   "id": "9c4e27b8-e0a5-4a4c-867e-27f9844a1057",
   "metadata": {},
   "outputs": [],
   "source": [
    "import torch\n",
    "#torch.multiprocessing.set_start_method('spawn') # good solution !!!!\n",
    "\n",
    "#Expert = lambda **kwd_args: MOR2dOperator(n_layers=1, **kwd_args) # works b/c only 1 layer\n",
    "Expert = MOR2dOperator # works (with 32 modes)\n",
    "#Expert = lambda: MOR2dOperator(k_modes=16) # only kind of works\n",
    "#Expert = CNN2d # works\n",
    "\n",
    "# train model\n",
    "model = POU_net(Expert, 1, lr=0.001, T_max=25)\n",
    "trainer = L.Trainer(max_epochs=1000, accelerator='gpu', devices=1)\n",
    "trainer.fit(model=model, train_dataloaders=train_loader)"
   ]
  },
  {
   "cell_type": "code",
   "execution_count": null,
   "id": "fca0a22f-92ae-480e-b2f0-4ae066a733a1",
   "metadata": {},
   "outputs": [],
   "source": [
    "# This display loop, Verified to work 7/19/24\n",
    "shuffle_loader = torch.utils.data.DataLoader(dataset, shuffle=True)\n",
    "#model.eval()\n",
    "\n",
    "for i, datum in enumerate(shuffle_loader):\n",
    "    if i>10: break\n",
    "    X, y = datum\n",
    "    plt.figure(1+i*3)\n",
    "    plt.imshow(X.squeeze())\n",
    "    plt.colorbar()\n",
    "    plt.title('Input')\n",
    "    \n",
    "    plt.figure(2+i*3)\n",
    "    plt.imshow(y.squeeze())\n",
    "    plt.colorbar()\n",
    "    plt.title('Truth')\n",
    "    \n",
    "    #plt.figure(3+i*3)\n",
    "    #plt.imshow(model(X.cuda()).cpu().detach().squeeze())\n",
    "    #plt.colorbar()\n",
    "    #plt.title('Pred')\n",
    "    #plt.show()\n",
    "#model.train()"
   ]
  },
  {
   "cell_type": "code",
   "execution_count": null,
   "id": "e55c79c8-9650-4d73-822d-701e78a8284d",
   "metadata": {},
   "outputs": [],
   "source": [
    "f = h5py.File('data/turbulence_output/channel_t=2.h5', 'r')\n",
    "#f = h5py.File('data/channel5200_full_filtered/channel5200.h5', 'r')\n",
    "\n",
    "f.visit(print)\n",
    "print(dir(f))\n",
    "\n",
    "def display_data(name, data):\n",
    "    print(f'name: {name}, data.shape={data.shape}')\n",
    "f.visititems(display_data)"
   ]
  }
 ],
 "metadata": {
  "kernelspec": {
   "display_name": "Python 3 (ipykernel)",
   "language": "python",
   "name": "python3"
  },
  "language_info": {
   "codemirror_mode": {
    "name": "ipython",
    "version": 3
   },
   "file_extension": ".py",
   "mimetype": "text/x-python",
   "name": "python",
   "nbconvert_exporter": "python",
   "pygments_lexer": "ipython3",
   "version": "3.10.14"
  }
 },
 "nbformat": 4,
 "nbformat_minor": 5
}
