{
 "cells": [
  {
   "cell_type": "code",
   "execution_count": null,
   "id": "4e448414-3f4f-46a0-9c05-b1ec3fcdaa91",
   "metadata": {},
   "outputs": [],
   "source": [
    "import torch\n",
    "import torch.fft\n",
    "\n",
    "# Checked\n",
    "def generate_wavevector(shape):\n",
    "    # Make wave-vector grid, torch.fft.fftfreq is like linspace for frequencies\n",
    "    freq_mesh = torch.meshgrid(*[torch.fft.fftfreq(dim) for dim in shape], indexing='ij')\n",
    "    return torch.stack(freq_mesh, dim=-1) # = k(x) (position inputs --> k freqs outputs)\n",
    "    \n",
    "# Checked\n",
    "# TODO: set the output vector velocity component for time=1 (how?)\n",
    "def generate_divergence_free_initial_condition(in_shape, device='cuda'):\n",
    "    torch.manual_seed(0)\n",
    "    \n",
    "    # Adding an additional dimension for velocity components\n",
    "    out_dim = len(in_shape) # number of coordinates == dimensionality of the space\n",
    "    h = torch.randn(*in_shape, out_dim, device=device)\n",
    "    # h(x)=out_vec in R^out_dim ('array-func' inputs are indices)\n",
    "    \n",
    "    k = generate_wavevector(in_shape).to(device) # k(x) (position inputs --> k freqs outputs)\n",
    "    k_square = torch.sum(k**2, dim=-1, keepdim=True) # = ||k||^2_2\n",
    "\n",
    "    # FFT all but the output/range dim (last)\n",
    "    h_hat = torch.fft.fftn(h, dim=list(range(len(in_shape))))\n",
    "    k_dot_h = torch.sum(k * h_hat, dim=-1, keepdim=True) # compute h_hat*k\n",
    "    u0_hat = h_hat - (k_dot_h * k / (k_square + 1e-12)) # subtract proj (make orthog)\n",
    "    return u0_hat\n",
    "\n",
    "# Checked\n",
    "def compute_nonlinear_term(u_hat):\n",
    "    not_last_dim = list(range(len(u_hat.shape)-1)) # no syntax sugar :(\n",
    "    u = torch.fft.ifftn(u_hat, dim=not_last_dim)\n",
    "    nonlinear_term = torch.tensordot(u, u, dims=0) # := u ⊗ u (i.e. tensor product)\n",
    "    nonlinear_term_hat = torch.fft.fftn(nonlinear_term, dim=not_last_dim)\n",
    "    return nonlinear_term_hat\n",
    "\n",
    "def update_velocity(u_hat, nonlinear_term_hat, dt, k_square, k):\n",
    "    \"\"\"\n",
    "    Updates the velocity field in spectral space.\n",
    "\n",
    "    Args:\n",
    "        u_hat (torch.Tensor): The Fourier-transformed velocity field.\n",
    "        nonlinear_term_hat (torch.Tensor): The non-linear term in spectral space.\n",
    "        dt (float): The time step.\n",
    "        k_square (torch.Tensor): The square of the wavevector magnitude.\n",
    "        k (torch.Tensor): The wavevector tensor.\n",
    "        device (torch.device): The device to use for tensor operations.\n",
    "\n",
    "    Returns:\n",
    "        torch.Tensor: The updated velocity field in spectral space.\n",
    "    \"\"\"\n",
    "    k = k.unsqueeze(-2)  # Add the necessary dimension for correct broadcasting\n",
    "    k_square = k_square.unsqueeze(-2)\n",
    "    k_dot_u = torch.sum(k * u_hat, dim=-1, keepdim=True)\n",
    "    k_outer_u = (k_dot_u * k / (k_square + 1e-12))\n",
    "    diffusion_term = -k_square * u_hat\n",
    "\n",
    "    u_hat_new = u_hat + dt * (nonlinear_term_hat - k_outer_u + diffusion_term)\n",
    "    return u_hat_new\n",
    "\n",
    "def simulate_navier_stokes(shape, num_steps, dt, device):\n",
    "    \"\"\"\n",
    "    Simulates the Navier-Stokes equations using the Fourier pseudo-spectral method.\n",
    "\n",
    "    Args:\n",
    "        shape (tuple): The shape of the domain.\n",
    "        num_steps (int): The number of time steps.\n",
    "        dt (float): The time step.\n",
    "        device (torch.device): The device to use for tensor operations.\n",
    "\n",
    "    Returns:\n",
    "        torch.Tensor: The final velocity field in spectral space.\n",
    "    \"\"\"\n",
    "    u_hat = generate_divergence_free_initial_condition(shape, device)\n",
    "    k = generate_wavevector(shape, device)\n",
    "    k_square = torch.sum(k**2, dim=-1, keepdim=True).to(device)\n",
    "\n",
    "    for _ in range(num_steps):\n",
    "        nonlinear_term_hat = compute_nonlinear_term(u_hat, shape, device)\n",
    "        u_hat = update_velocity(u_hat, nonlinear_term_hat, dt, k_square, k, device)\n",
    "\n",
    "    return u_hat\n",
    "\n",
    "# Simulation parameters\n",
    "shape = (128, 128, 64)  # Example for 3D, change as needed\n",
    "num_steps = 100\n",
    "dt = 0.01\n",
    "device = torch.device('cuda' if torch.cuda.is_available() else 'cpu')\n",
    "\n",
    "# Run the simulation\n",
    "u_hat = simulate_navier_stokes(shape, num_steps, dt, device)\n",
    "\n",
    "# Transform back to physical space to get the velocity field\n",
    "u = torch.fft.ifftn(u_hat, dim=range(len(shape))).real\n",
    "\n",
    "# Print the resulting velocity field\n",
    "print(u.shape)"
   ]
  },
  {
   "cell_type": "markdown",
   "id": "89ed9e33-0c30-4d3b-8b7d-be7c250fe9f6",
   "metadata": {},
   "source": [
    "## Divergence Free IC (Eq. 3):\n",
    "$ \\bar u_0(k) = \\bar h(k) - {k(k*\\bar h(k)) \\over ||k||^2_2} $ \\\n",
    "$ \\nabla * u_0 = \\sum_j^3 {du_0 \\over dx_j}$ \\\n",
    "$ F(\\nabla * u_0) = \\sum_j^3 ik_j*\\bar u_0 = ik*\\bar u_0$ \\\n",
    "$ \\nabla * \\bar u_0 = 0 \\implies k*u_0=0 $"
   ]
  },
  {
   "cell_type": "code",
   "execution_count": null,
   "id": "c749bc0a-c81a-4211-b45f-83c8a1269ca7",
   "metadata": {},
   "outputs": [],
   "source": [
    "# returns frequencies found at each corresponding location in the FFT output (for given size)\n",
    "torch.fft.fftfreq(5)"
   ]
  },
  {
   "cell_type": "code",
   "execution_count": null,
   "id": "0abf1a56-fb59-4c3e-b206-429271efa377",
   "metadata": {},
   "outputs": [],
   "source": [
    "# Checked\n",
    "def generate_wavevector(shape):\n",
    "    # Make wave-vector grid, torch.fft.fftfreq is like linspace for frequencies\n",
    "    freq_mesh = torch.meshgrid(*[torch.fft.fftfreq(dim) for dim in shape], indexing='ij')\n",
    "    return torch.stack(freq_mesh, dim=-1) # = k(x) (position inputs --> k freqs outputs)\n",
    "    \n",
    "# Checked\n",
    "# TODO: set the output vector velocity component for time=1 (how?)\n",
    "def generate_divergence_free_initial_condition(in_shape, device='cuda'):\n",
    "    torch.manual_seed(0)\n",
    "    \n",
    "    # Adding an additional dimension for velocity components\n",
    "    out_dim = len(in_shape) # number of coordinates == dimensionality of the space\n",
    "    h = torch.randn(*in_shape, out_dim, device=device)\n",
    "    # h(x)=out_vec in R^out_dim ('array-func' inputs are indices)\n",
    "    \n",
    "    k = generate_wavevector(in_shape).to(device) # k(x) (position inputs --> k freqs outputs)\n",
    "    k_square = torch.sum(k**2, dim=-1, keepdim=True) # = ||k||^2_2\n",
    "\n",
    "    # FFT all but the output/range dim (last)\n",
    "    h_hat = torch.fft.fftn(h, dim=list(range(len(in_shape))))\n",
    "    k_dot_h = torch.sum(k * h_hat, dim=-1, keepdim=True) # compute h_hat*k\n",
    "    u0_hat = h_hat - (k_dot_h * k / (k_square + 1e-12)) # subtract proj (make orthog)\n",
    "    return u0_hat"
   ]
  },
  {
   "cell_type": "code",
   "execution_count": null,
   "id": "acfd0d7d-524d-4a5c-906d-f80cdca35522",
   "metadata": {},
   "outputs": [],
   "source": [
    "u0_hat = generate_divergence_free_initial_condition([2,2])\n",
    "u0_hat.shape"
   ]
  },
  {
   "cell_type": "code",
   "execution_count": null,
   "id": "2331b7e9-e4cc-4409-be1e-07ed8f940ee4",
   "metadata": {},
   "outputs": [],
   "source": [
    "u0_hat[1,1]"
   ]
  },
  {
   "cell_type": "markdown",
   "id": "a3bf8205-7fd2-4a0b-a7ba-78c4a1cf40f5",
   "metadata": {},
   "source": [
    "## Non-linear (quadratic) term:\n",
    "$ \\overline { u^n \\otimes u^n } = F(F^{-1}(\\bar u^n)\\otimes F^{-1}(\\bar u^n)) $"
   ]
  },
  {
   "cell_type": "code",
   "execution_count": null,
   "id": "b77a6d30-527c-4245-ae1a-29071d46942a",
   "metadata": {},
   "outputs": [],
   "source": [
    "# Checked\n",
    "# TODO: fix enormous OOM issue!\n",
    "def compute_nonlinear_term(u_hat):\n",
    "    not_last_dim = list(range(len(u_hat.shape)-1)) # no syntax sugar :(\n",
    "    u = torch.fft.ifftn(u_hat, dim=not_last_dim)\n",
    "    nonlinear_term = torch.tensordot(u, u, dims=0) # := u ⊗ u (i.e. tensor product)\n",
    "    nonlinear_term_hat = torch.fft.fftn(nonlinear_term, dim=not_last_dim)\n",
    "    return nonlinear_term_hat"
   ]
  },
  {
   "attachments": {
    "e6da8396-4ac8-40dd-bcdb-3b6c04de2c49.png": {
     "image/png": "[encoded data removed]"
    }
   },
   "cell_type": "markdown",
   "id": "15807648-6652-4975-b88f-b37d7a73461a",
   "metadata": {},
   "source": [
    "## Forward equation:\n",
    "![image.png](attachment:e6da8396-4ac8-40dd-bcdb-3b6c04de2c49.png)"
   ]
  },
  {
   "cell_type": "code",
   "execution_count": null,
   "id": "b1746d41-4632-4a91-8692-73c8479c5519",
   "metadata": {},
   "outputs": [],
   "source": [
    "def update_velocity(u_hat, dt, k_square, k):\n",
    "    \"\"\"\n",
    "    Updates the velocity field in spectral space.\n",
    "\n",
    "    Args:\n",
    "        u_hat (torch.Tensor): The Fourier-transformed velocity field.\n",
    "        dt (float): The time step.\n",
    "        k_square (torch.Tensor): The square of the wavevector magnitude.\n",
    "        k (torch.Tensor): The wavevector tensor.\n",
    "    Returns:\n",
    "        torch.Tensor: The updated velocity field in spectral space.\n",
    "    \"\"\"\n",
    "    # TODO: Fix this crazy term taking 73 TBs of memory!!!\n",
    "    nonlinear_term_hat = compute_nonlinear_term(u_hat)\n",
    "    k_outer_k = torch.tensordot(k, k, dims=0) # outer product\n",
    "    k_outer_u = torch.tensordot(k_outer_k, nonlinear_term_hat) # inner product\n",
    "    k_outer_u = (1j*k / (k_square + 1e-12))*k_outer_u\n",
    "    \n",
    "    #k_dot_u = torch.sum(k * u_hat, dim=-1, keepdim=True) # suss, or maybe more efficient??\n",
    "    #k_outer_u = (k_dot_u * ij*k / (k_square + 1e-12)) # suss\n",
    "    diffusion_term = -k_square * u_hat # good\n",
    "\n",
    "    u_hat_new = u_hat + dt * (-1j*k*nonlinear_term_hat - k_outer_u + diffusion_term)\n",
    "    return u_hat_new"
   ]
  },
  {
   "cell_type": "code",
   "execution_count": null,
   "id": "d0e5c393-031d-4ff6-8abd-0c0201e61dd5",
   "metadata": {},
   "outputs": [],
   "source": [
    "def simulate_navier_stokes(shape, num_steps, dt, device):\n",
    "    \"\"\"\n",
    "    Simulates the Navier-Stokes equations using the Fourier pseudo-spectral method.\n",
    "\n",
    "    Args:\n",
    "        shape (tuple): The shape of the domain.\n",
    "        num_steps (int): The number of time steps.\n",
    "        dt (float): The time step.\n",
    "        device (torch.device): The device to use for tensor operations.\n",
    "\n",
    "    Returns:\n",
    "        torch.Tensor: The final velocity field in spectral space.\n",
    "    \"\"\"\n",
    "    u_hat = generate_divergence_free_initial_condition(shape, device)\n",
    "    k = generate_wavevector(shape).to(device)\n",
    "    k_square = torch.sum(k**2, dim=-1, keepdim=True)\n",
    "\n",
    "    for _ in range(num_steps):\n",
    "        u_hat = update_velocity(u_hat, dt, k_square, k)\n",
    "\n",
    "    return u_hat"
   ]
  },
  {
   "cell_type": "code",
   "execution_count": null,
   "id": "79849664-d33c-49e4-8382-6d4100ab8d7c",
   "metadata": {},
   "outputs": [],
   "source": [
    "# Simulation parameters\n",
    "shape = (32, 32, 16)  # Example for 3D, change as needed\n",
    "num_steps = 100\n",
    "dt = 0.01\n",
    "device = torch.device('cuda' if torch.cuda.is_available() else 'cpu')\n",
    "\n",
    "# Run the simulation\n",
    "u_hat = simulate_navier_stokes(shape, num_steps, dt, device)\n",
    "\n",
    "# Transform back to physical space to get the velocity field\n",
    "u = torch.fft.ifftn(u_hat, dim=range(len(shape))).real\n",
    "\n",
    "# Print the resulting velocity field\n",
    "print(u.shape)"
   ]
  },
  {
   "cell_type": "code",
   "execution_count": null,
   "id": "fbf3fcba-4b4b-4448-992c-8907f115e6ad",
   "metadata": {},
   "outputs": [],
   "source": [
    "K = torch.tensordot(u,u, dims=0)\n",
    "print(K.shape)\n",
    "\n",
    "lin_coords = [torch.arange(d) for d in u.shape]*2\n",
    "mesh = torch.meshgrid(*[torch.arange(d) for d in u.shape]*2, indexing='ij')\n",
    "flat_mesh = [grid_i.ravel() for grid_i in mesh]\n",
    "\n",
    "assert (K[flat_mesh]==u[flat_mesh[:2]]*u[flat_mesh[2:]]).all()"
   ]
  },
  {
   "cell_type": "code",
   "execution_count": null,
   "id": "c8b862e2-64f2-42c7-bebe-98400cd6a72c",
   "metadata": {},
   "outputs": [],
   "source": [
    "u_hat"
   ]
  },
  {
   "cell_type": "code",
   "execution_count": null,
   "id": "28af35e7-3bb1-4bcd-b7ef-44a1fc461134",
   "metadata": {},
   "outputs": [],
   "source": []
  }
 ],
 "metadata": {
  "kernelspec": {
   "display_name": "Python 3 (ipykernel)",
   "language": "python",
   "name": "python3"
  },
  "language_info": {
   "codemirror_mode": {
    "name": "ipython",
    "version": 3
   },
   "file_extension": ".py",
   "mimetype": "text/x-python",
   "name": "python",
   "nbconvert_exporter": "python",
   "pygments_lexer": "ipython3",
   "version": "3.10.0"
  }
 },
 "nbformat": 4,
 "nbformat_minor": 5
}
