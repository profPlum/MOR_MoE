{
 "cells": [
  {
   "cell_type": "code",
   "execution_count": null,
   "id": "8a739cfb-cab7-4b20-bfbb-e7e6820dddb5",
   "metadata": {},
   "outputs": [],
   "source": [
    "%load_ext autoreload\n",
    "%autoreload 2\n",
    "%matplotlib inline\n",
    "import torch\n",
    "from torch import nn\n",
    "import numpy as np\n",
    "import matplotlib.pyplot as plt\n",
    "import pytorch_lightning as L\n",
    "import torch.nn.functional as F\n",
    "torch.set_float32_matmul_precision('medium')"
   ]
  },
  {
   "cell_type": "markdown",
   "id": "57608558-30e5-4083-8d88-bae1c3a01cd3",
   "metadata": {},
   "source": [
    "# Exercise 3\n",
    "\n",
    "Use POU-Net with neural operators to fit the following functional data. Working in the unit circle domain, $\\Omega = \\{x \\in \\mathbb{R}^2 : x\\leq 1\\}$, the true operator maps functions on $\\Omega$ to functions on $\\Omega$ where the both the input and output functions vanish at the boundaries of the domain. This situation is common when trying to model physical systems, e.g., the flow at the blade of a wind turbine can be assumed to be zero, but the flow elsewhere needs to be modeled. We call the details of the field behavior at the boundaries the boundary conditions.\n",
    "\n",
    "We'll be working with an operator learning method we developed called MOR-Physics. See https://arxiv.org/pdf/1810.08552 and https://www.sciencedirect.com/science/article/pii/S004578252030685X. It's very similar to FNO. Try implementing it as described in the papers. The formula for the action of the parameterized operator is,\n",
    "$$\n",
    "\\mathcal{N}(u) = \\mathcal{F^{-1}}\\left(g(\\mathbf{\\kappa}) \\mathcal{F} (h(u)) \\right)\n",
    "$$\n",
    "where $\\mathcal{F}$ is the fourier transform, $g$ is a complex valued function of the wave vector $\\kappa$, and $h$ is a point-wise nonlinearity.\n",
    "\n",
    "Since the method is Fourier based, it only works for periodic domains, while the domain for the data is the unit circle. We can still work on the periodic domain and use MOR-Physics by embedding the circle inside a periodic domain and and use mixture of experts to fit the operator in the domain while mapping the region outside the domain to zero. See this paper for more details and generalizations of this approach in the context of numerical methods for solving PDEs, https://www.sciencedirect.com/science/article/pii/S0021999114000151\n",
    "\n",
    "Try using MOR-physics to fit the operator in the unit circle while having it vanish outside. There's a few different levels of complexity you could try here. You could start off by fixing the POU's to be the unit circle and the region outside the circle and also fix the experts to be MOR-Physics inside the circle and the zero operator outside. Next you could try letting the POU's adopt to the domain and/or choosing between several MOR-Physics experts."
   ]
  },
  {
   "cell_type": "code",
   "execution_count": null,
   "id": "590f2965-5278-4a9c-b0e1-a06615d02641",
   "metadata": {},
   "outputs": [],
   "source": [
    "import tensorflow as tf\n",
    "\n",
    "class sythnetic_data_op_gen:\n",
    "    def __init__(self):\n",
    "        n = 32\n",
    "        L = 2.5\n",
    "        x = np.arange(-n//2,n//2)/n*L\n",
    "        y = np.arange(-n//2,n//2)/n*L\n",
    "        \n",
    "        X = np.stack(np.meshgrid(x,y,indexing='ij'),(-1))\n",
    "        Xh = np.reshape(X,(-1,2))\n",
    "        self.X = X\n",
    "        self.Xh = Xh\n",
    "        \n",
    "        Xi = X[X[...,0]**2+X[...,1]**2<1]\n",
    "        Xb = X[X[...,0]**2+X[...,1]**2>=1]\n",
    "        \n",
    "        def K(X1,X2,a=1.,l=3e-1):\n",
    "            X1shape = X1.shape\n",
    "            X2shape = X2.shape\n",
    "            for _ in range(len(X2shape)-1):\n",
    "                X1 = X1[...,None,:]\n",
    "            for _ in range(len(X1shape)-1):\n",
    "                X2 = X2[None]\n",
    "            d2 = tf.reduce_sum((X1-X2)**2,-1)\n",
    "            return (a*tf.exp(-d2/l**2))\n",
    "        \n",
    "        kbb = K(Xb,Xb)\n",
    "        kib = K(Xh,Xb)\n",
    "        kii = K(Xh,Xh)\n",
    "        \n",
    "        cov = kii-np.einsum('ij,jk',kib,tf.linalg.solve(kbb,tf.transpose(kib)))\n",
    "        \n",
    "        self.ksq = np.linalg.cholesky(cov+1e-4*np.eye(len(Xh)))\n",
    "    def true_operator(self,u):\n",
    "        u2 = u**2\n",
    "        return np.roll(u2,1,axis=0) + np.roll(u2,-1,axis=0) + np.roll(u2,1,axis=1) + np.roll(u2,-1,axis=1) - 4*u2\n",
    "    def sample_u(self):\n",
    "        u = tf.reshape(np.dot(self.ksq,np.random.normal(0,1,len(self.Xh))),(32,32)).numpy()\n",
    "        u[self.X[...,0]**2+self.X[...,1]**2>=1]=0\n",
    "        return u\n",
    "    def sample(self,N):\n",
    "        us = [self.sample_u() for _ in range(N)]\n",
    "        vs = [self.true_operator(u) for u in us]\n",
    "        return self.X,np.stack(us,axis=0),np.stack(vs,axis=0)\n",
    "\n",
    "gen = sythnetic_data_op_gen()"
   ]
  },
  {
   "cell_type": "code",
   "execution_count": null,
   "id": "b3477c5d-189f-4f7e-874d-7e924e3dd73e",
   "metadata": {},
   "outputs": [],
   "source": [
    "# this generates the training set. X contains the grid of (x,y) points. u_train is the input functions\n",
    "# v_train is the output functions.\n",
    "X,u_train,v_train = gen.sample(10000)"
   ]
  },
  {
   "cell_type": "code",
   "execution_count": null,
   "id": "a14fa0d6-d6b1-407f-a116-83306c86bd67",
   "metadata": {},
   "outputs": [],
   "source": [
    "np.save('data/u_train2.npy', u_train)\n",
    "np.save('data/v_train2.npy', v_train)"
   ]
  },
  {
   "cell_type": "code",
   "execution_count": null,
   "id": "275cc79e-b299-441f-a9fb-e8f0de1463e7",
   "metadata": {},
   "outputs": [],
   "source": [
    "import numpy as np\n",
    "u_train = np.load('data/u_train2.npy')\n",
    "v_train = np.load('data/v_train2.npy')"
   ]
  },
  {
   "cell_type": "code",
   "execution_count": null,
   "id": "174561f5-23c6-4bea-b06d-35f6a9a6a112",
   "metadata": {},
   "outputs": [],
   "source": [
    "# this plots a sample of the input functions. Note the domain boundary in red\n",
    "fig,ax = plt.subplots(1,1)\n",
    "plt.imshow(u_train[5],extent=[-1.25,1.25,-1.25,1.25])\n",
    "ax.add_patch(plt.Circle((0, 0), 1, ec='r',fc=[0,0,0,0]))"
   ]
  },
  {
   "cell_type": "code",
   "execution_count": null,
   "id": "7c6d2382-d1e9-4237-9bb5-984af659a477",
   "metadata": {},
   "outputs": [],
   "source": [
    "# this plots a sample of the output functions. Note the domain boundary in red\n",
    "fig,ax = plt.subplots(1,1)\n",
    "plt.imshow(v_train[5],extent=[-1.25,1.25,-1.25,1.25])\n",
    "plt.colorbar()\n",
    "ax.add_patch(plt.Circle((0, 0), 1, ec='r',fc=[0,0,0,0]))"
   ]
  },
  {
   "cell_type": "code",
   "execution_count": null,
   "id": "863455ed-3c97-4a5d-a799-71f7caf3bb18",
   "metadata": {},
   "outputs": [],
   "source": [
    "from lightning_utils import *\n",
    "from MOR_Operator import MOR_Operator\n",
    "from POU_net import POU_net"
   ]
  },
  {
   "cell_type": "code",
   "execution_count": null,
   "id": "32f0426a-b916-47d1-bbf5-2a23fee248db",
   "metadata": {},
   "outputs": [],
   "source": [
    "batch_size = 128\n",
    "\n",
    "u_train = torch.as_tensor(u_train).float()\n",
    "v_train = torch.as_tensor(v_train).float()\n",
    "dataset = torch.utils.data.TensorDataset(u_train[:,None], v_train[:,None])\n",
    "train, val = torch.utils.data.random_split(dataset, [0.8, 0.2])\n",
    "train_loader = torch.utils.data.DataLoader(train, batch_size=batch_size, drop_last=True)\n",
    "val_loader = torch.utils.data.DataLoader(val, batch_size=batch_size)"
   ]
  },
  {
   "cell_type": "code",
   "execution_count": null,
   "id": "2c4d402e-b825-4ab9-b20c-421c28a25850",
   "metadata": {},
   "outputs": [],
   "source": [
    "print(f'{u_train.shape=}')\n",
    "print(f'{len(val_loader)=}')"
   ]
  },
  {
   "cell_type": "code",
   "execution_count": null,
   "id": "1447eea9-b9f0-4857-b391-536a82c74968",
   "metadata": {},
   "outputs": [],
   "source": [
    "import random\n",
    "X, y = next(iter(train_loader))\n",
    "print(f'{X.shape=}, {y.shape=}')\n",
    "\n",
    "i = random.randrange(len(X))\n",
    "print(f'id={i}')\n",
    "\n",
    "plt.figure(1)\n",
    "plt.imshow(X[i].squeeze())\n",
    "plt.colorbar()\n",
    "plt.figure(2)\n",
    "plt.imshow(y[i].squeeze())\n",
    "plt.colorbar()\n",
    "plt.show()"
   ]
  },
  {
   "cell_type": "code",
   "execution_count": null,
   "id": "8162c83c-5ce3-48fc-a2ea-e8924eedf161",
   "metadata": {},
   "outputs": [],
   "source": [
    "%pdb"
   ]
  },
  {
   "cell_type": "code",
   "execution_count": null,
   "id": "6d6dbf7d-ba58-42ff-a8f2-df180d4a8e3b",
   "metadata": {},
   "outputs": [],
   "source": [
    "from MOR_Operator import MOR_Operator\n",
    "from POU_net import POU_net\n",
    "\n",
    "torch.use_deterministic_algorithms(False)\n",
    "L.seed_everything(0)\n",
    "\n",
    "# train model\n",
    "model = POU_net(1, 1, n_experts=3, lr=0.002, RLoP=False, T_max=10, k_modes=32, mlp_second=False)\n",
    "trainer = L.Trainer(max_epochs=10, accelerator='gpu', devices=1) #devices=3, strategy=\"ddp_notebook\")\n",
    "trainer.fit(model=model, train_dataloaders=train_loader, val_dataloaders=val_loader)\n",
    "model = model.to('cuda:0')"
   ]
  },
  {
   "cell_type": "markdown",
   "id": "f06af710-06c8-4fec-8957-9c4fe8feb351",
   "metadata": {},
   "source": [
    "$$\\text{(Scalar) }NLL_{i}=(\\mu_i-y_i)^2/(2\\sigma_i^2)+ln(\\sigma_i)$$"
   ]
  },
  {
   "cell_type": "markdown",
   "id": "c7be5658-af56-42dc-9b07-6d217bd2f69a",
   "metadata": {},
   "source": [
    "### The 2nd Phase is Very Important!\n",
    "Despite the exponential decay, I'm not entirely sure why (because I've verified again that L2 decay works).\n",
    "But at least part of the reason is because it restarts the learning rate schedulers and the Adam adaptive learning rates too."
   ]
  },
  {
   "cell_type": "code",
   "execution_count": null,
   "id": "253aa46b-eb20-4eb6-bf46-7efac18f0d6a",
   "metadata": {},
   "outputs": [],
   "source": [
    "trainer = L.Trainer(max_epochs=5000, accelerator='gpu', devices=1)\n",
    "trainer.fit(model=model, train_dataloaders=train_loader)\n",
    "model = model.to('cuda:0')"
   ]
  },
  {
   "cell_type": "code",
   "execution_count": null,
   "id": "f74fc956-0020-488e-beb9-e1fa3e70ed7a",
   "metadata": {},
   "outputs": [],
   "source": [
    "%pdb"
   ]
  },
  {
   "cell_type": "code",
   "execution_count": null,
   "id": "c011e559-388c-4cda-92bf-2a2b59d04b46",
   "metadata": {},
   "outputs": [],
   "source": [
    "trainer.validate(model, dataloaders=train_loader)"
   ]
  },
  {
   "cell_type": "markdown",
   "id": "79f8dcd3-d7a1-4799-bf53-61f0139769b0",
   "metadata": {},
   "source": [
    "## Expert Partitions:"
   ]
  },
  {
   "cell_type": "code",
   "execution_count": null,
   "id": "b24ea0b9-30c3-4b82-a1f2-5db8c06f9579",
   "metadata": {},
   "outputs": [],
   "source": [
    "print(X.shape)\n",
    "gating_weights, topk = model.gating_net(X[0])\n",
    "print(f'{gating_weights.shape=}')\n",
    "topk_sort_idx = torch.argsort(topk)\n",
    "gating_weights, topk = gating_weights[:,topk_sort_idx], topk[topk_sort_idx]\n",
    "print(f'{gating_weights.shape=}')"
   ]
  },
  {
   "cell_type": "code",
   "execution_count": null,
   "id": "c41149b6-50c4-418e-bde0-c7ebbf8128bb",
   "metadata": {},
   "outputs": [],
   "source": [
    "ones = torch.ones(1,1,32,32, dtype=gating_weights.dtype, device=gating_weights.device)\n",
    "zero_weight = ones - gating_weights.sum(axis=1)\n",
    "experts_list = [zero_weight,  gating_weights]\n",
    "if gating_weights.shape[1]==1:\n",
    "    print('padding')\n",
    "    experts_list.append(ones*0)\n",
    "gating_weights = torch.cat(experts_list, axis=1)\n",
    "print(f'{gating_weights.shape=}')"
   ]
  },
  {
   "cell_type": "code",
   "execution_count": null,
   "id": "4e6d0c89-97f1-4988-8ce8-d78a7ed7a006",
   "metadata": {},
   "outputs": [],
   "source": [
    "from grid_figures import GridFigure\n",
    "gating_weights = gating_weights.squeeze().detach().cpu()\n",
    "GridFigure.compare_img_seq(list(gating_weights), x_titles=['Zero Expert', 'Expert #1', 'Expert #2'])"
   ]
  },
  {
   "cell_type": "code",
   "execution_count": null,
   "id": "77eb13e6-5c40-4750-bed2-f012305ede95",
   "metadata": {},
   "outputs": [],
   "source": [
    "gating_weights_plt = gating_weights.squeeze().detach().cpu().moveaxis(0,-1).numpy()\n",
    "plt.imshow(gating_weights_plt)\n",
    "plt.title('Expert Partitions')\n",
    "plt.xticks([],[])\n",
    "plt.yticks([],[])\n",
    "plt.show()"
   ]
  },
  {
   "cell_type": "markdown",
   "id": "eac29784-45c2-4f7c-83db-fe2d2f034b19",
   "metadata": {},
   "source": [
    "## View Predictions"
   ]
  },
  {
   "cell_type": "code",
   "execution_count": null,
   "id": "b5a60ac6-91c4-4134-a5b4-1f8a4e0ee650",
   "metadata": {},
   "outputs": [],
   "source": [
    "# This display loop, Verified to work 7/19/24\n",
    "shuffle_loader = torch.utils.data.DataLoader(dataset, shuffle=True)\n",
    "model = model.cuda()\n",
    "model.eval()\n",
    "\n",
    "for i, datum in enumerate(shuffle_loader):\n",
    "    if i>10: break\n",
    "    X, y = datum\n",
    "    plt.figure(1+i*3)\n",
    "    plt.imshow(X.squeeze())\n",
    "    plt.colorbar()\n",
    "    plt.title('Input')\n",
    "    \n",
    "    plt.figure(2+i*3)\n",
    "    plt.imshow(y.squeeze())\n",
    "    plt.colorbar()\n",
    "    plt.title('Truth')\n",
    "    \n",
    "    plt.figure(3+i*3)\n",
    "    plt.imshow(model(X.to(model.device)).cpu().detach().squeeze())\n",
    "    plt.colorbar()\n",
    "    plt.title('Pred')\n",
    "    plt.show()\n",
    "model.train()"
   ]
  }
 ],
 "metadata": {
  "kernelspec": {
   "display_name": "Python 3 (ipykernel)",
   "language": "python",
   "name": "python3"
  },
  "language_info": {
   "codemirror_mode": {
    "name": "ipython",
    "version": 3
   },
   "file_extension": ".py",
   "mimetype": "text/x-python",
   "name": "python",
   "nbconvert_exporter": "python",
   "pygments_lexer": "ipython3",
   "version": "3.10.0"
  }
 },
 "nbformat": 4,
 "nbformat_minor": 5
}
