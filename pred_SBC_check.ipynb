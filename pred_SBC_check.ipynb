{
 "cells": [
  {
   "cell_type": "markdown",
   "id": "71861422-d351-4c20-84ef-657a5b175bed",
   "metadata": {},
   "source": [
    "# Setup:"
   ]
  },
  {
   "cell_type": "code",
   "execution_count": 1,
   "id": "458919a7-9007-4d9d-95ea-95386b12eb17",
   "metadata": {},
   "outputs": [],
   "source": [
    "%load_ext autoreload\n",
    "%autoreload 2\n",
    "%matplotlib inline\n",
    "import torch\n",
    "from torch import nn\n",
    "import numpy as np\n",
    "import matplotlib.pyplot as plt\n",
    "import pytorch_lightning as L\n",
    "import torch.nn.functional as F\n",
    "import torch.multiprocessing\n",
    "torch.multiprocessing.set_sharing_strategy('file_system')\n",
    "\n",
    "from lightning_utils import *\n",
    "from MOR_Operator import MOR_Operator\n",
    "from POU_net import POU_net\n",
    "import JHTDB_sim_op\n",
    "fields = lambda x: [name for name in vars(x) if not name.startswith('_')]"
   ]
  },
  {
   "cell_type": "code",
   "execution_count": 3,
   "id": "31bb2d28-3ea5-4a2d-a278-395fe942cf02",
   "metadata": {},
   "outputs": [
    {
     "name": "stdout",
     "output_type": "stream",
     "text": [
      "loading VI model!\n"
     ]
    }
   ],
   "source": [
    "def load_model(path, device='cuda:6', **kwd_args):\n",
    "    ''' Wraps up all the nonsense involved in loading an inference model properly into one function. '''\n",
    "    kwd_args = {'n_inputs': 3, 'n_outputs': 3, 'ndims': 3} | kwd_args # user-provided kwd_args has precedence in update\n",
    "    if 'VI' in path:\n",
    "        print('loading VI model!')\n",
    "        model = JHTDB_sim_op.PPOU_NetSimulator.load_from_checkpoint(path, **kwd_args)\n",
    "    else: \n",
    "        print('loading deterministic model!')\n",
    "        model = JHTDB_sim_op.POU_NetSimulator.load_from_checkpoint(path, **kwd_args)\n",
    "\n",
    "    model = model.to(device)\n",
    "    model.eval()\n",
    "\n",
    "    # freeze everything\n",
    "    for parameter in model.parameters():\n",
    "        parameter.requires_grad=False\n",
    "    return model\n",
    "\n",
    "model = load_model('/scratch/dsdeigh/best_models/partial_VI_model2.ckpt')\n",
    "#model = load_model('best_model3.ckpt')"
   ]
  },
  {
   "cell_type": "code",
   "execution_count": 4,
   "id": "1fc3625f-cc99-4437-82cb-bc3f72be3503",
   "metadata": {},
   "outputs": [],
   "source": [
    "val_dataset = JHTDB_sim_op.JHTDB_Channel('data/turbulence_output', time_chunking=9)\n",
    "val_data_loader = torch.utils.data.DataLoader(val_dataset, batch_size=5, num_workers=16, shuffle=True)"
   ]
  },
  {
   "cell_type": "markdown",
   "id": "fd658932-4b37-43c3-a945-b70798fefa0d",
   "metadata": {},
   "source": [
    "# Predictive Simulation Based Calibration (aka PSBC)\n",
    "First update `get_BNN_pred_distribution()` to work with aleatoric moment outputs."
   ]
  },
  {
   "cell_type": "code",
   "execution_count": 6,
   "id": "6d6fb063-2a9b-47c5-8fa7-fbfe379b98b2",
   "metadata": {},
   "outputs": [],
   "source": [
    "def clear_cache():\n",
    "    ''' clear pytorch cuda cache '''\n",
    "    import torch, gc\n",
    "    while gc.collect(): pass\n",
    "    torch.cuda.empty_cache()\n",
    "\n",
    "# Adapted to stack aleatoric moments\n",
    "def get_BNN_pred_distribution(bnn_model, x_input, n_samples=100, no_grad=True):\n",
    "    '''\n",
    "    If you just want moments use get_BNN_pred_moments() instead as it is *much* more memory efficient (e.g. for large sample sizes). But this is still useful if you want an actual distribution.\n",
    "    '''\n",
    "    if no_grad:\n",
    "        with torch.inference_mode():\n",
    "            return get_BNN_pred_distribution(bnn_model, x_input, n_samples, no_grad=False)\n",
    "    preds_mu, preds_sigma = [], []\n",
    "    x_input = x_input.to(model.device)\n",
    "    for i in range(n_samples):\n",
    "        mu, sigma = bnn_model(x_input)\n",
    "        preds_mu.append(mu)\n",
    "        preds_sigma.append(sigma)\n",
    "    preds_mu = torch.stack(preds_mu, axis=0)\n",
    "    preds_sigma = torch.stack(preds_sigma, axis=0)\n",
    "    return preds_mu, preds_sigma\n",
    "\n",
    "# updated uses laws of total variance and expectation\n",
    "def get_BNN_pred_moments(bnn_model, x_inputs, n_samples=100, no_grad=True, verbose=True):\n",
    "    if no_grad:\n",
    "        with torch.inference_mode():\n",
    "            return get_BNN_pred_moments(bnn_model, x_inputs, n_samples=n_samples, no_grad=False, verbose=verbose)\n",
    "\n",
    "    total_expectation = 0 # E[Y] = E[E[Y|Z]]\n",
    "    total_variance = 0 # Var[Y] = E[Var[Y|Z]]+Var[E[Y|Z]]\n",
    "    mus = [] # necessary for 2nd term in total variance eq.\n",
    "    assert n_samples>1\n",
    "    for i in range(n_samples):\n",
    "        if verbose and i%print_interval==0:\n",
    "            print(f'{i}th moment sample')\n",
    "            utils.report_cuda_memory_usage(clear=False)\n",
    "        mu, sigma = bnn_model(x_inputs.float())\n",
    "        mus.append(mu)\n",
    "        \n",
    "        total_expectation = total_expectation + mu\n",
    "        total_variance = total_variance + sigma**2\n",
    "\n",
    "    # take average\n",
    "    total_expectation = total_expectation/n_samples\n",
    "    total_variance = total_variance/n_samples\n",
    "    \n",
    "    # add in the explained variance term (2nd term) = Var(mus) = Var[E[Y|Z]]\n",
    "    total_variance = total_variance + sum([(mu-total_expectation)**2/len(mus) for mu in mus])\n",
    "    \n",
    "    return total_expectation, total_variance**0.5\n",
    "\n",
    "dumb_vmap = lambda func: lambda X: torch.stack([func(x) for x in X])\n",
    "# useful for debugging when vmap won't work"
   ]
  },
  {
   "cell_type": "code",
   "execution_count": 7,
   "id": "073292e6-a490-4c93-b27f-5fa2fccfbebb",
   "metadata": {},
   "outputs": [],
   "source": [
    "'''\n",
    "%pdb off\n",
    "# updated uses laws of total variance and expectation\n",
    "def get_BNN_pred_moments(bnn_model, x_inputs, n_samples=100, no_grad=True, **kwd_args):\n",
    "    if no_grad:\n",
    "        with torch.inference_mode():\n",
    "            return get_BNN_pred_moments(bnn_model, x_inputs, n_samples=n_samples, no_grad=False, **kwd_args)\n",
    "    \n",
    "    total_expectation = 0 # E[Y] = E[E[Y|Z]]\n",
    "    total_variance = 0 # Var[Y] = E[Var[Y|Z]]+Var[E[Y|Z]]\n",
    "    mus = [] # necessary for 2nd term in total variance eq.\n",
    "    assert n_samples>1\n",
    "    print_interval=n_samples//10\n",
    "\n",
    "    try:\n",
    "        import warnings\n",
    "        warnings.filterwarnings(\"error\")\n",
    "        while len(mus)<n_samples:\n",
    "            if len(mus)%print_interval==0:\n",
    "                print(f'{len(mus)}th moment sample')\n",
    "\n",
    "            try: # handle NaN samples by retrying\n",
    "                mu, sigma = bnn_model(x_inputs.float(), **kwd_args)\n",
    "                mus.append(mu) # will only reach here if no NaNs happened\n",
    "            except UserWarning as e: # catch NaN warning\n",
    "                assert 'NaNs' in str(e), 'Wrong warning caught! fix this'\n",
    "                print(e) # sanity check\n",
    "                continue\n",
    "            \n",
    "            total_expectation = total_expectation + mu\n",
    "            total_variance = total_variance + sigma**2\n",
    "    \n",
    "        # take average\n",
    "        total_expectation = total_expectation/n_samples\n",
    "        total_variance = total_variance/n_samples\n",
    "        \n",
    "        # add in the explained variance term (2nd term) = Var(mus) = Var[E[Y|Z]]\n",
    "        total_variance = total_variance + sum([(mu-total_expectation)**2/len(mus) for mu in mus])\n",
    "    finally:\n",
    "        warnings.resetwarnings()\n",
    "    \n",
    "    return total_expectation, total_variance**0.5\n",
    "''';"
   ]
  },
  {
   "cell_type": "markdown",
   "id": "51577e62-2a7a-4a78-9e2f-f3021a4baeda",
   "metadata": {},
   "source": [
    "## ALeatoric KDE Equations:\n",
    "\n",
    "1. We want to take the union of the centroid pdfs so we sum. But then we need to make the pdf integrate to 1 $\\int_{x \\in \\Omega} p(x) dx=1$, so we divide by the number of pdfs resulting in an average: $$p(S_{jk})={1\\over N}\\sum^N_{i=0}p_{ik}(S_{jk}) \\text{ s.t. } S_{jk}\\sim p_{jk}$$\n",
    "2. However all these computations need to happen in the log domain for numerical stability: $$log(p(S_{jk}))=log({1\\over N}\\sum^N_{i=0}p_{ik}(S_{jk}))=log(\\sum^N_{i=0}p_{ik}(S_{jk}))-log(N)$$\n",
    "4. In practice this requires the Log-sum-exp trick (aka LSE): $$log(p(S_{jk}))={LSE}^N_{i=0}log(p_{ik}(S_{jk}))-log(N)$$\n",
    "5. Then we need to get the joint pdf across all the spatial dimension(s) (indexed by k) $$log(p(S_j))=log(\\prod_kp(S_{jk}))=\\sum_k log(p(S_{jk}))$$\n",
    "    6. NOTE: this is NOT marginalization, marginalization happens by summing raw PDFs we are multiplying them."
   ]
  },
  {
   "cell_type": "code",
   "execution_count": 8,
   "id": "5ad62986-d2ab-4866-8f6a-78a12fcebc1c",
   "metadata": {},
   "outputs": [],
   "source": [
    "# GOTCHA: It seems the problem is that it always gives more liklihood to the true value than the samples? Maybe just sample more?\n",
    "# That wouldn't be all bad if it were actually true it would imply that the true value always has the highest likelihood but it can't be literally true...\n",
    "def _find_batch_pred_HDI_truth_quantiles(model, inputs, outputs, n_samples_per_batch, chunk_size=10, fake_ideal=False, verbose=True):\n",
    "    with torch.inference_mode():\n",
    "        # get sample aleatoric distributions from sampling epistemic distribution\n",
    "        pred_distribution = get_BNN_pred_distribution(model, inputs, n_samples=n_samples_per_batch)\n",
    "        pred_distribution = torch.distributions.normal.Normal(*pred_distribution, validate_args=False)\n",
    "        pred_samples = pred_distribution.sample() # then sample the actual predictions from the sampled aleatoric distributions\n",
    "        if verbose: print(f'{pred_samples.shape=}') # shape==[aleatoric_sample, batch, ...]\n",
    "\n",
    "        import random # Verified that fake ideal works: 10/10/24\n",
    "        if fake_ideal: # artificially simulate the ideal case where outputs are sampled from prediction distribution\n",
    "            outputs = random.choice(pred_samples) # GOTCHA: isn't realized with small number of batches & sample sizes!\n",
    "        \n",
    "        def get_log_density(sample_datum):\n",
    "            ''' gets log density of a single sample given the aleatoric distributions sampled from the epistemic weights '''\n",
    "            # averaged_pdfs = p(S_jk) = (1/N)∑_i(p_ik(S_jk)) s.t. S_jk ~ p_jk := KDE-style pdf (derived from aleatoric distributions)\n",
    "            averaged_pdfs = torch.logsumexp(pred_distribution.log_prob(sample_datum), dim=0) - np.log(n_samples_per_batch) # average across epistemic dimension\n",
    "            joint_pdfs = torch.vmap(torch.sum)(averaged_pdfs) # joint pdf across all non-batch dims := log(∏_ip_i(S_i))\n",
    "            return joint_pdfs\n",
    "\n",
    "        # vmap supports additional input dimension: j (aka aleatoric sample dimension)\n",
    "        #vget_log_density = dumb_vmap(get_log_density)\n",
    "        vget_log_density = torch.vmap(get_log_density, chunk_size=chunk_size)\n",
    "        pred_samples = pred_samples[:, None] # move the aleatoric sample dimension out of the epistemic sample distribution dimension\n",
    "        assert tuple(pred_samples.shape)[:3]==(n_samples_per_batch, 1, inputs.shape[0])\n",
    "        pred_joint_log_pdfs = vget_log_density(pred_samples) # shape==[aleatoric_sample, batch]\n",
    "        assert tuple(pred_joint_log_pdfs.shape)==(n_samples_per_batch, inputs.shape[0])\n",
    "\n",
    "        truth_joint_log_pdf = get_log_density(outputs[None])\n",
    "        assert tuple(truth_joint_log_pdf.shape)==(inputs.shape[0],)\n",
    "\n",
    "        if verbose:\n",
    "            # plot the pdf quantile distribution(s)\n",
    "            batch_display_ids = random.choices(range(inputs.shape[0]), k=1)\n",
    "            for i in batch_display_ids:\n",
    "                plt.hist(pred_joint_log_pdfs[:,i].cpu(), color='blue')\n",
    "                plt.axvline(truth_joint_log_pdf[i].item(), color='red')\n",
    "                plt.title(f'{i}th joint-log-pdf Distribution')\n",
    "                plt.show()\n",
    "\n",
    "        pdf_comparison = pred_joint_log_pdfs<=truth_joint_log_pdf\n",
    "        if verbose: print(f'pdf_comparison={list(pdf_comparison.ravel().cpu().numpy())}')\n",
    "        truth_quantiles = torch.sum(pdf_comparison, dim=0)/pdf_comparison.shape[0]\n",
    "        assert pred_joint_log_pdfs.shape[0]==pdf_comparison.shape[0]==n_samples_per_batch\n",
    "        return truth_quantiles.cpu().detach()\n",
    "\n",
    "# Actually we don't need KDE! We can use the aleatoric uncertainty to get density directly!\n",
    "def find_pred_HCI_truth_quantiles(model, data_loader, n_batches=100, n_samples_per_batch=25, chunk_size=10, fake_ideal=False, verbose=True):\n",
    "    \"\"\"\n",
    "    These quantiles should follow q~U(0,1) in order for BCI theory to be satisfied.\n",
    "    You can simulate the ideal case as a sanity check with fake_ideal=True.\n",
    "    GOTCHA: In practice with small batch and/or sample sizes even with fake_ideal=True, the distribution will not look uniform!\n",
    "    \"\"\"\n",
    "    import matplotlib.pyplot as plt\n",
    "    assert model.device.type=='cuda' # TOO slow on cpu\n",
    "    truth_quantiles = []\n",
    "    while len(truth_quantiles)<n_batches:\n",
    "        for inputs, outputs in data_loader:\n",
    "            if len(truth_quantiles)==0: print(f'{inputs.shape=}, {outputs.shape=}')\n",
    "            elif len(truth_quantiles)==n_batches: break\n",
    "            print(f'processing batch: {len(truth_quantiles)}')\n",
    "            truth_quantiles.append(_find_batch_pred_HDI_truth_quantiles(model, inputs.to(model.device), outputs.to(model.device),\n",
    "                                                                        n_samples_per_batch=n_samples_per_batch, fake_ideal=fake_ideal,\n",
    "                                                                        chunk_size=chunk_size, verbose=verbose))\n",
    "    truth_quantiles = torch.cat(truth_quantiles)\n",
    "    display_quantiles = list(torch.quantile(truth_quantiles, q=torch.linspace(0.0,1.0, steps=5)).numpy())\n",
    "    print('1/5th quantiles of truth quantile distribution: ', display_quantiles)\n",
    "    plt.hist(truth_quantiles)\n",
    "    plt.title('Truth Quantiles (Should follow q~U(0,1))')\n",
    "    plt.show()\n",
    "    return truth_quantiles"
   ]
  },
  {
   "cell_type": "code",
   "execution_count": 9,
   "id": "ad0fff30-a765-4048-aee3-ba909f92a024",
   "metadata": {
    "scrolled": true
   },
   "outputs": [
    {
     "name": "stdout",
     "output_type": "stream",
     "text": [
      "Automatic pdb calling has been turned ON\n",
      "inputs.shape=torch.Size([5, 3, 103, 26, 77]), outputs.shape=torch.Size([5, 3, 103, 26, 77, 8])\n",
      "processing batch: 0\n",
      "pred_samples.shape=torch.Size([25, 5, 3, 103, 26, 77, 8])\n"
     ]
    },
    {
     "data": {
      "image/png": "[encoded data removed]",
      "text/plain": [
       "<Figure size 640x480 with 1 Axes>"
      ]
     },
     "metadata": {},
     "output_type": "display_data"
    },
    {
     "name": "stdout",
     "output_type": "stream",
     "text": [
      "pdf_comparison=[False, False, False, False, False, False, False, False, False, False, False, False, False, False, False, False, False, False, False, False, False, False, False, False, False, False, False, False, False, False, False, False, False, False, False, False, False, False, False, False, False, False, False, False, False, False, False, False, False, False, False, False, False, False, False, False, False, False, False, False, False, False, False, False, False, False, False, False, False, False, False, False, False, False, False, False, False, False, False, False, False, False, False, False, False, False, False, False, False, False, False, False, False, False, False, False, False, False, False, False, False, False, False, False, False, False, False, False, False, False, False, False, False, False, False, False, False, False, False, False, False, False, False, False, False]\n",
      "processing batch: 1\n",
      "pred_samples.shape=torch.Size([25, 5, 3, 103, 26, 77, 8])\n"
     ]
    },
    {
     "data": {
      "image/png": "[encoded data removed]",
      "text/plain": [
       "<Figure size 640x480 with 1 Axes>"
      ]
     },
     "metadata": {},
     "output_type": "display_data"
    },
    {
     "name": "stdout",
     "output_type": "stream",
     "text": [
      "pdf_comparison=[False, False, False, False, False, False, False, False, False, False, False, False, False, False, False, False, False, False, False, False, False, False, False, False, False, False, False, False, False, False, False, False, False, False, False, False, False, False, False, False, False, False, False, False, False, False, False, False, False, False, False, False, False, False, False, False, False, False, False, False, False, False, False, False, False, False, False, False, False, False, False, False, False, False, False, False, False, False, False, False, False, False, False, False, False, False, False, False, False, False, False, False, False, False, False, False, False, False, False, False, False, False, False, False, False, False, False, False, False, False, False, False, False, False, False, False, False, False, False, False, False, False, False, False, False]\n",
      "processing batch: 2\n",
      "pred_samples.shape=torch.Size([25, 5, 3, 103, 26, 77, 8])\n"
     ]
    },
    {
     "data": {
      "image/png": "[encoded data removed]",
      "text/plain": [
       "<Figure size 640x480 with 1 Axes>"
      ]
     },
     "metadata": {},
     "output_type": "display_data"
    },
    {
     "name": "stdout",
     "output_type": "stream",
     "text": [
      "pdf_comparison=[False, False, False, False, False, False, False, False, False, False, False, False, False, False, False, False, False, False, False, False, False, False, False, False, False, False, False, False, False, False, False, False, False, False, False, False, False, False, False, False, False, False, False, False, False, False, False, False, False, False, False, False, False, False, False, False, False, False, False, False, False, False, False, False, False, False, False, False, False, False, False, False, False, False, False, False, False, False, False, False, False, False, False, False, False, False, False, False, False, False, False, False, False, False, False, False, False, False, False, False, False, False, False, False, False, False, False, False, False, False, False, False, False, False, False, False, False, False, False, False, False, False, False, False, False]\n",
      "processing batch: 3\n"
     ]
    },
    {
     "ename": "KeyboardInterrupt",
     "evalue": "",
     "output_type": "error",
     "traceback": [
      "\u001b[0;31m---------------------------------------------------------------------------\u001b[0m",
      "\u001b[0;31mKeyboardInterrupt\u001b[0m                         Traceback (most recent call last)",
      "Cell \u001b[0;32mIn[9], line 2\u001b[0m\n\u001b[1;32m      1\u001b[0m get_ipython()\u001b[38;5;241m.\u001b[39mrun_line_magic(\u001b[38;5;124m'\u001b[39m\u001b[38;5;124mpdb\u001b[39m\u001b[38;5;124m'\u001b[39m, \u001b[38;5;124m'\u001b[39m\u001b[38;5;124mon\u001b[39m\u001b[38;5;124m'\u001b[39m)\n\u001b[0;32m----> 2\u001b[0m truth_quantiles \u001b[38;5;241m=\u001b[39m \u001b[43mfind_pred_HCI_truth_quantiles\u001b[49m\u001b[43m(\u001b[49m\u001b[43mmodel\u001b[49m\u001b[43m,\u001b[49m\u001b[43m \u001b[49m\u001b[43mval_data_loader\u001b[49m\u001b[43m,\u001b[49m\u001b[43m \u001b[49m\u001b[43mn_batches\u001b[49m\u001b[38;5;241;43m=\u001b[39;49m\u001b[38;5;241;43m10\u001b[39;49m\u001b[43m,\u001b[49m\u001b[43m \u001b[49m\u001b[43mn_samples_per_batch\u001b[49m\u001b[38;5;241;43m=\u001b[39;49m\u001b[38;5;241;43m25\u001b[39;49m\u001b[43m,\u001b[49m\u001b[43m \u001b[49m\u001b[43mchunk_size\u001b[49m\u001b[38;5;241;43m=\u001b[39;49m\u001b[38;5;241;43m2\u001b[39;49m\u001b[43m,\u001b[49m\u001b[43m \u001b[49m\u001b[43mfake_ideal\u001b[49m\u001b[38;5;241;43m=\u001b[39;49m\u001b[38;5;28;43;01mFalse\u001b[39;49;00m\u001b[43m,\u001b[49m\u001b[43m \u001b[49m\u001b[43mverbose\u001b[49m\u001b[38;5;241;43m=\u001b[39;49m\u001b[38;5;28;43;01mTrue\u001b[39;49;00m\u001b[43m)\u001b[49m\n",
      "Cell \u001b[0;32mIn[8], line 64\u001b[0m, in \u001b[0;36mfind_pred_HCI_truth_quantiles\u001b[0;34m(model, data_loader, n_batches, n_samples_per_batch, chunk_size, fake_ideal, verbose)\u001b[0m\n\u001b[1;32m     62\u001b[0m         \u001b[38;5;28;01melif\u001b[39;00m \u001b[38;5;28mlen\u001b[39m(truth_quantiles)\u001b[38;5;241m==\u001b[39mn_batches: \u001b[38;5;28;01mbreak\u001b[39;00m\n\u001b[1;32m     63\u001b[0m         \u001b[38;5;28mprint\u001b[39m(\u001b[38;5;124mf\u001b[39m\u001b[38;5;124m'\u001b[39m\u001b[38;5;124mprocessing batch: \u001b[39m\u001b[38;5;132;01m{\u001b[39;00m\u001b[38;5;28mlen\u001b[39m(truth_quantiles)\u001b[38;5;132;01m}\u001b[39;00m\u001b[38;5;124m'\u001b[39m)\n\u001b[0;32m---> 64\u001b[0m         truth_quantiles\u001b[38;5;241m.\u001b[39mappend(\u001b[43m_find_batch_pred_HDI_truth_quantiles\u001b[49m\u001b[43m(\u001b[49m\u001b[43mmodel\u001b[49m\u001b[43m,\u001b[49m\u001b[43m \u001b[49m\u001b[43minputs\u001b[49m\u001b[38;5;241;43m.\u001b[39;49m\u001b[43mto\u001b[49m\u001b[43m(\u001b[49m\u001b[43mmodel\u001b[49m\u001b[38;5;241;43m.\u001b[39;49m\u001b[43mdevice\u001b[49m\u001b[43m)\u001b[49m\u001b[43m,\u001b[49m\u001b[43m \u001b[49m\u001b[43moutputs\u001b[49m\u001b[38;5;241;43m.\u001b[39;49m\u001b[43mto\u001b[49m\u001b[43m(\u001b[49m\u001b[43mmodel\u001b[49m\u001b[38;5;241;43m.\u001b[39;49m\u001b[43mdevice\u001b[49m\u001b[43m)\u001b[49m\u001b[43m,\u001b[49m\n\u001b[1;32m     65\u001b[0m \u001b[43m                                                                    \u001b[49m\u001b[43mn_samples_per_batch\u001b[49m\u001b[38;5;241;43m=\u001b[39;49m\u001b[43mn_samples_per_batch\u001b[49m\u001b[43m,\u001b[49m\u001b[43m \u001b[49m\u001b[43mfake_ideal\u001b[49m\u001b[38;5;241;43m=\u001b[39;49m\u001b[43mfake_ideal\u001b[49m\u001b[43m,\u001b[49m\n\u001b[1;32m     66\u001b[0m \u001b[43m                                                                    \u001b[49m\u001b[43mchunk_size\u001b[49m\u001b[38;5;241;43m=\u001b[39;49m\u001b[43mchunk_size\u001b[49m\u001b[43m,\u001b[49m\u001b[43m \u001b[49m\u001b[43mverbose\u001b[49m\u001b[38;5;241;43m=\u001b[39;49m\u001b[43mverbose\u001b[49m\u001b[43m)\u001b[49m)\n\u001b[1;32m     67\u001b[0m truth_quantiles \u001b[38;5;241m=\u001b[39m torch\u001b[38;5;241m.\u001b[39mcat(truth_quantiles)\n\u001b[1;32m     68\u001b[0m display_quantiles \u001b[38;5;241m=\u001b[39m \u001b[38;5;28mlist\u001b[39m(torch\u001b[38;5;241m.\u001b[39mquantile(truth_quantiles, q\u001b[38;5;241m=\u001b[39mtorch\u001b[38;5;241m.\u001b[39mlinspace(\u001b[38;5;241m0.0\u001b[39m,\u001b[38;5;241m1.0\u001b[39m, steps\u001b[38;5;241m=\u001b[39m\u001b[38;5;241m5\u001b[39m))\u001b[38;5;241m.\u001b[39mnumpy())\n",
      "Cell \u001b[0;32mIn[8], line 6\u001b[0m, in \u001b[0;36m_find_batch_pred_HDI_truth_quantiles\u001b[0;34m(model, inputs, outputs, n_samples_per_batch, chunk_size, fake_ideal, verbose)\u001b[0m\n\u001b[1;32m      3\u001b[0m \u001b[38;5;28;01mdef\u001b[39;00m \u001b[38;5;21m_find_batch_pred_HDI_truth_quantiles\u001b[39m(model, inputs, outputs, n_samples_per_batch, chunk_size\u001b[38;5;241m=\u001b[39m\u001b[38;5;241m10\u001b[39m, fake_ideal\u001b[38;5;241m=\u001b[39m\u001b[38;5;28;01mFalse\u001b[39;00m, verbose\u001b[38;5;241m=\u001b[39m\u001b[38;5;28;01mTrue\u001b[39;00m):\n\u001b[1;32m      4\u001b[0m     \u001b[38;5;28;01mwith\u001b[39;00m torch\u001b[38;5;241m.\u001b[39minference_mode():\n\u001b[1;32m      5\u001b[0m         \u001b[38;5;66;03m# get sample aleatoric distributions from sampling epistemic distribution\u001b[39;00m\n\u001b[0;32m----> 6\u001b[0m         pred_distribution \u001b[38;5;241m=\u001b[39m \u001b[43mget_BNN_pred_distribution\u001b[49m\u001b[43m(\u001b[49m\u001b[43mmodel\u001b[49m\u001b[43m,\u001b[49m\u001b[43m \u001b[49m\u001b[43minputs\u001b[49m\u001b[43m,\u001b[49m\u001b[43m \u001b[49m\u001b[43mn_samples\u001b[49m\u001b[38;5;241;43m=\u001b[39;49m\u001b[43mn_samples_per_batch\u001b[49m\u001b[43m)\u001b[49m\n\u001b[1;32m      7\u001b[0m         pred_samples \u001b[38;5;241m=\u001b[39m pred_distribution[\u001b[38;5;241m0\u001b[39m] \u001b[38;5;66;03m# use mu as the pred samples\u001b[39;00m\n\u001b[1;32m      8\u001b[0m         pred_distribution \u001b[38;5;241m=\u001b[39m torch\u001b[38;5;241m.\u001b[39mdistributions\u001b[38;5;241m.\u001b[39mnormal\u001b[38;5;241m.\u001b[39mNormal(\u001b[38;5;241m*\u001b[39mpred_distribution, validate_args\u001b[38;5;241m=\u001b[39m\u001b[38;5;28;01mFalse\u001b[39;00m)\n",
      "Cell \u001b[0;32mIn[6], line 14\u001b[0m, in \u001b[0;36mget_BNN_pred_distribution\u001b[0;34m(bnn_model, x_input, n_samples, no_grad)\u001b[0m\n\u001b[1;32m     12\u001b[0m \u001b[38;5;28;01mif\u001b[39;00m no_grad:\n\u001b[1;32m     13\u001b[0m     \u001b[38;5;28;01mwith\u001b[39;00m torch\u001b[38;5;241m.\u001b[39minference_mode():\n\u001b[0;32m---> 14\u001b[0m         \u001b[38;5;28;01mreturn\u001b[39;00m \u001b[43mget_BNN_pred_distribution\u001b[49m\u001b[43m(\u001b[49m\u001b[43mbnn_model\u001b[49m\u001b[43m,\u001b[49m\u001b[43m \u001b[49m\u001b[43mx_input\u001b[49m\u001b[43m,\u001b[49m\u001b[43m \u001b[49m\u001b[43mn_samples\u001b[49m\u001b[43m,\u001b[49m\u001b[43m \u001b[49m\u001b[43mno_grad\u001b[49m\u001b[38;5;241;43m=\u001b[39;49m\u001b[38;5;28;43;01mFalse\u001b[39;49;00m\u001b[43m)\u001b[49m\n\u001b[1;32m     15\u001b[0m preds_mu, preds_sigma \u001b[38;5;241m=\u001b[39m [], []\n\u001b[1;32m     16\u001b[0m x_input \u001b[38;5;241m=\u001b[39m x_input\u001b[38;5;241m.\u001b[39mto(model\u001b[38;5;241m.\u001b[39mdevice)\n",
      "Cell \u001b[0;32mIn[6], line 18\u001b[0m, in \u001b[0;36mget_BNN_pred_distribution\u001b[0;34m(bnn_model, x_input, n_samples, no_grad)\u001b[0m\n\u001b[1;32m     16\u001b[0m x_input \u001b[38;5;241m=\u001b[39m x_input\u001b[38;5;241m.\u001b[39mto(model\u001b[38;5;241m.\u001b[39mdevice)\n\u001b[1;32m     17\u001b[0m \u001b[38;5;28;01mfor\u001b[39;00m i \u001b[38;5;129;01min\u001b[39;00m \u001b[38;5;28mrange\u001b[39m(n_samples):\n\u001b[0;32m---> 18\u001b[0m     mu, sigma \u001b[38;5;241m=\u001b[39m \u001b[43mbnn_model\u001b[49m\u001b[43m(\u001b[49m\u001b[43mx_input\u001b[49m\u001b[43m)\u001b[49m\n\u001b[1;32m     19\u001b[0m     preds_mu\u001b[38;5;241m.\u001b[39mappend(mu)\n\u001b[1;32m     20\u001b[0m     preds_sigma\u001b[38;5;241m.\u001b[39mappend(sigma)\n",
      "File \u001b[0;32m/home/dsdeigh/miniforge3/envs/uqops+proxy/lib/python3.10/site-packages/torch/nn/modules/module.py:1532\u001b[0m, in \u001b[0;36mModule._wrapped_call_impl\u001b[0;34m(self, *args, **kwargs)\u001b[0m\n\u001b[1;32m   1530\u001b[0m     \u001b[38;5;28;01mreturn\u001b[39;00m \u001b[38;5;28mself\u001b[39m\u001b[38;5;241m.\u001b[39m_compiled_call_impl(\u001b[38;5;241m*\u001b[39margs, \u001b[38;5;241m*\u001b[39m\u001b[38;5;241m*\u001b[39mkwargs)  \u001b[38;5;66;03m# type: ignore[misc]\u001b[39;00m\n\u001b[1;32m   1531\u001b[0m \u001b[38;5;28;01melse\u001b[39;00m:\n\u001b[0;32m-> 1532\u001b[0m     \u001b[38;5;28;01mreturn\u001b[39;00m \u001b[38;5;28;43mself\u001b[39;49m\u001b[38;5;241;43m.\u001b[39;49m\u001b[43m_call_impl\u001b[49m\u001b[43m(\u001b[49m\u001b[38;5;241;43m*\u001b[39;49m\u001b[43margs\u001b[49m\u001b[43m,\u001b[49m\u001b[43m \u001b[49m\u001b[38;5;241;43m*\u001b[39;49m\u001b[38;5;241;43m*\u001b[39;49m\u001b[43mkwargs\u001b[49m\u001b[43m)\u001b[49m\n",
      "File \u001b[0;32m/home/dsdeigh/miniforge3/envs/uqops+proxy/lib/python3.10/site-packages/torch/nn/modules/module.py:1541\u001b[0m, in \u001b[0;36mModule._call_impl\u001b[0;34m(self, *args, **kwargs)\u001b[0m\n\u001b[1;32m   1536\u001b[0m \u001b[38;5;66;03m# If we don't have any hooks, we want to skip the rest of the logic in\u001b[39;00m\n\u001b[1;32m   1537\u001b[0m \u001b[38;5;66;03m# this function, and just call forward.\u001b[39;00m\n\u001b[1;32m   1538\u001b[0m \u001b[38;5;28;01mif\u001b[39;00m \u001b[38;5;129;01mnot\u001b[39;00m (\u001b[38;5;28mself\u001b[39m\u001b[38;5;241m.\u001b[39m_backward_hooks \u001b[38;5;129;01mor\u001b[39;00m \u001b[38;5;28mself\u001b[39m\u001b[38;5;241m.\u001b[39m_backward_pre_hooks \u001b[38;5;129;01mor\u001b[39;00m \u001b[38;5;28mself\u001b[39m\u001b[38;5;241m.\u001b[39m_forward_hooks \u001b[38;5;129;01mor\u001b[39;00m \u001b[38;5;28mself\u001b[39m\u001b[38;5;241m.\u001b[39m_forward_pre_hooks\n\u001b[1;32m   1539\u001b[0m         \u001b[38;5;129;01mor\u001b[39;00m _global_backward_pre_hooks \u001b[38;5;129;01mor\u001b[39;00m _global_backward_hooks\n\u001b[1;32m   1540\u001b[0m         \u001b[38;5;129;01mor\u001b[39;00m _global_forward_hooks \u001b[38;5;129;01mor\u001b[39;00m _global_forward_pre_hooks):\n\u001b[0;32m-> 1541\u001b[0m     \u001b[38;5;28;01mreturn\u001b[39;00m \u001b[43mforward_call\u001b[49m\u001b[43m(\u001b[49m\u001b[38;5;241;43m*\u001b[39;49m\u001b[43margs\u001b[49m\u001b[43m,\u001b[49m\u001b[43m \u001b[49m\u001b[38;5;241;43m*\u001b[39;49m\u001b[38;5;241;43m*\u001b[39;49m\u001b[43mkwargs\u001b[49m\u001b[43m)\u001b[49m\n\u001b[1;32m   1543\u001b[0m \u001b[38;5;28;01mtry\u001b[39;00m:\n\u001b[1;32m   1544\u001b[0m     result \u001b[38;5;241m=\u001b[39m \u001b[38;5;28;01mNone\u001b[39;00m\n",
      "File \u001b[0;32m/home/dsdeigh/MOR_MoEs/model_agnostic_BNN.py:148\u001b[0m, in \u001b[0;36mmodel_agnostic_dnn_to_bnn.<locals>.forward\u001b[0;34m(self, *args, **kwargs)\u001b[0m\n\u001b[1;32m    146\u001b[0m \u001b[38;5;28;01mdef\u001b[39;00m \u001b[38;5;21mforward\u001b[39m(\u001b[38;5;28mself\u001b[39m, \u001b[38;5;241m*\u001b[39margs, \u001b[38;5;241m*\u001b[39m\u001b[38;5;241m*\u001b[39mkwargs):\n\u001b[1;32m    147\u001b[0m     \u001b[38;5;28;01mwith\u001b[39;00m parametrize\u001b[38;5;241m.\u001b[39mcached():\n\u001b[0;32m--> 148\u001b[0m         \u001b[38;5;28;01mreturn\u001b[39;00m \u001b[38;5;28;43msuper\u001b[39;49m\u001b[43m(\u001b[49m\u001b[38;5;28;43mtype\u001b[39;49m\u001b[43m(\u001b[49m\u001b[38;5;28;43mself\u001b[39;49m\u001b[43m)\u001b[49m\u001b[43m,\u001b[49m\u001b[43m \u001b[49m\u001b[38;5;28;43mself\u001b[39;49m\u001b[43m)\u001b[49m\u001b[38;5;241;43m.\u001b[39;49m\u001b[43mforward\u001b[49m\u001b[43m(\u001b[49m\u001b[38;5;241;43m*\u001b[39;49m\u001b[43margs\u001b[49m\u001b[43m,\u001b[49m\u001b[43m \u001b[49m\u001b[38;5;241;43m*\u001b[39;49m\u001b[38;5;241;43m*\u001b[39;49m\u001b[43mkwargs\u001b[49m\u001b[43m)\u001b[49m\n",
      "File \u001b[0;32m/home/dsdeigh/MOR_MoEs/JHTDB_sim_op.py:238\u001b[0m, in \u001b[0;36mPOU_NetSimulator.forward\u001b[0;34m(self, X, n_steps, **kwd_args)\u001b[0m\n\u001b[1;32m    236\u001b[0m \u001b[38;5;28;01mwith\u001b[39;00m \u001b[38;5;28mself\u001b[39m\u001b[38;5;241m.\u001b[39mgating_net\u001b[38;5;241m.\u001b[39mcached_gating_weights():\n\u001b[1;32m    237\u001b[0m     \u001b[38;5;28;01mif\u001b[39;00m n_steps \u001b[38;5;129;01mis\u001b[39;00m \u001b[38;5;28;01mNone\u001b[39;00m: n_steps\u001b[38;5;241m=\u001b[39m\u001b[38;5;28mself\u001b[39m\u001b[38;5;241m.\u001b[39mn_steps\n\u001b[0;32m--> 238\u001b[0m     \u001b[38;5;28;01mreturn\u001b[39;00m \u001b[38;5;28;43mself\u001b[39;49m\u001b[38;5;241;43m.\u001b[39;49m\u001b[43msimulator\u001b[49m\u001b[38;5;241;43m.\u001b[39;49m\u001b[43mevolve\u001b[49m\u001b[43m(\u001b[49m\u001b[43mX\u001b[49m\u001b[43m,\u001b[49m\u001b[43m \u001b[49m\u001b[43mn\u001b[49m\u001b[38;5;241;43m=\u001b[39;49m\u001b[43mn_steps\u001b[49m\u001b[43m,\u001b[49m\u001b[43m \u001b[49m\u001b[43mintermediate_outputs\u001b[49m\u001b[38;5;241;43m=\u001b[39;49m\u001b[38;5;28;43;01mTrue\u001b[39;49;00m\u001b[43m,\u001b[49m\u001b[43m \u001b[49m\u001b[38;5;241;43m*\u001b[39;49m\u001b[38;5;241;43m*\u001b[39;49m\u001b[43mkwd_args\u001b[49m\u001b[43m)\u001b[49m\n",
      "File \u001b[0;32m/home/dsdeigh/MOR_MoEs/JHTDB_sim_op.py:208\u001b[0m, in \u001b[0;36mUQ_Sim.evolve\u001b[0;34m(self, u0, n, intermediate_outputs, intermediate_output_stride, divergence_free)\u001b[0m\n\u001b[1;32m    206\u001b[0m u, uq \u001b[38;5;241m=\u001b[39m \u001b[38;5;28mself\u001b[39m\u001b[38;5;241m.\u001b[39mop\u001b[38;5;241m.\u001b[39mforward(NSupd(u), uq)\n\u001b[1;32m    207\u001b[0m \u001b[38;5;28;01mif\u001b[39;00m divergence_free: u \u001b[38;5;241m=\u001b[39m divergence_free_constraint(u)\n\u001b[0;32m--> 208\u001b[0m \u001b[38;5;28;01mif\u001b[39;00m u\u001b[38;5;241m.\u001b[39misnan()\u001b[38;5;241m.\u001b[39many() \u001b[38;5;129;01mor\u001b[39;00m \u001b[43muq\u001b[49m\u001b[38;5;241;43m.\u001b[39;49m\u001b[43misnan\u001b[49m\u001b[43m(\u001b[49m\u001b[43m)\u001b[49m\u001b[38;5;241m.\u001b[39many():\n\u001b[1;32m    209\u001b[0m     warnings\u001b[38;5;241m.\u001b[39mwarn(\u001b[38;5;124mf\u001b[39m\u001b[38;5;124m'\u001b[39m\u001b[38;5;124mSimulation has diverged into NaNs! At step: \u001b[39m\u001b[38;5;132;01m{\u001b[39;00mi\u001b[38;5;132;01m}\u001b[39;00m\u001b[38;5;124m'\u001b[39m)\n\u001b[1;32m    210\u001b[0m \u001b[38;5;66;03m#assert not (u.isnan().any() or uq.isnan().any())\u001b[39;00m\n",
      "\u001b[0;31mKeyboardInterrupt\u001b[0m: "
     ]
    },
    {
     "name": "stdout",
     "output_type": "stream",
     "text": [
      "> \u001b[0;32m/home/dsdeigh/MOR_MoEs/JHTDB_sim_op.py\u001b[0m(208)\u001b[0;36mevolve\u001b[0;34m()\u001b[0m\n",
      "\u001b[0;32m    206 \u001b[0;31m            \u001b[0mu\u001b[0m\u001b[0;34m,\u001b[0m \u001b[0muq\u001b[0m \u001b[0;34m=\u001b[0m \u001b[0mself\u001b[0m\u001b[0;34m.\u001b[0m\u001b[0mop\u001b[0m\u001b[0;34m.\u001b[0m\u001b[0mforward\u001b[0m\u001b[0;34m(\u001b[0m\u001b[0mNSupd\u001b[0m\u001b[0;34m(\u001b[0m\u001b[0mu\u001b[0m\u001b[0;34m)\u001b[0m\u001b[0;34m,\u001b[0m \u001b[0muq\u001b[0m\u001b[0;34m)\u001b[0m\u001b[0;34m\u001b[0m\u001b[0;34m\u001b[0m\u001b[0m\n",
      "\u001b[0m\u001b[0;32m    207 \u001b[0;31m            \u001b[0;32mif\u001b[0m \u001b[0mdivergence_free\u001b[0m\u001b[0;34m:\u001b[0m \u001b[0mu\u001b[0m \u001b[0;34m=\u001b[0m \u001b[0mdivergence_free_constraint\u001b[0m\u001b[0;34m(\u001b[0m\u001b[0mu\u001b[0m\u001b[0;34m)\u001b[0m\u001b[0;34m\u001b[0m\u001b[0;34m\u001b[0m\u001b[0m\n",
      "\u001b[0m\u001b[0;32m--> 208 \u001b[0;31m            \u001b[0;32mif\u001b[0m \u001b[0mu\u001b[0m\u001b[0;34m.\u001b[0m\u001b[0misnan\u001b[0m\u001b[0;34m(\u001b[0m\u001b[0;34m)\u001b[0m\u001b[0;34m.\u001b[0m\u001b[0many\u001b[0m\u001b[0;34m(\u001b[0m\u001b[0;34m)\u001b[0m \u001b[0;32mor\u001b[0m \u001b[0muq\u001b[0m\u001b[0;34m.\u001b[0m\u001b[0misnan\u001b[0m\u001b[0;34m(\u001b[0m\u001b[0;34m)\u001b[0m\u001b[0;34m.\u001b[0m\u001b[0many\u001b[0m\u001b[0;34m(\u001b[0m\u001b[0;34m)\u001b[0m\u001b[0;34m:\u001b[0m\u001b[0;34m\u001b[0m\u001b[0;34m\u001b[0m\u001b[0m\n",
      "\u001b[0m\u001b[0;32m    209 \u001b[0;31m                \u001b[0mwarnings\u001b[0m\u001b[0;34m.\u001b[0m\u001b[0mwarn\u001b[0m\u001b[0;34m(\u001b[0m\u001b[0;34mf'Simulation has diverged into NaNs! At step: {i}'\u001b[0m\u001b[0;34m)\u001b[0m\u001b[0;34m\u001b[0m\u001b[0;34m\u001b[0m\u001b[0m\n",
      "\u001b[0m\u001b[0;32m    210 \u001b[0;31m            \u001b[0;31m#assert not (u.isnan().any() or uq.isnan().any())\u001b[0m\u001b[0;34m\u001b[0m\u001b[0;34m\u001b[0m\u001b[0m\n",
      "\u001b[0m\n"
     ]
    },
    {
     "name": "stdin",
     "output_type": "stream",
     "text": [
      "ipdb>  q\n"
     ]
    }
   ],
   "source": [
    "%pdb on\n",
    "truth_quantiles = find_pred_HCI_truth_quantiles(model, val_data_loader, n_batches=10, n_samples_per_batch=25, chunk_size=2, fake_ideal=False, verbose=True)"
   ]
  },
  {
   "cell_type": "code",
   "execution_count": 8,
   "id": "ce8ed82b-8d5a-4daa-b60f-59bb550a0219",
   "metadata": {},
   "outputs": [],
   "source": [
    "np.savetxt('truth_quantiles.txt', truth_quantiles.numpy())"
   ]
  },
  {
   "cell_type": "markdown",
   "id": "92de4187-e8e1-468c-9c0e-68b4b53c5558",
   "metadata": {},
   "source": [
    "## Posterior-Predictive Check\n",
    "\n",
    "$PPC_{LL}=log(p(D_{new}|D))=log(\\int p(D_{new}|\\theta)*p(\\theta|D)d\\theta)$\n",
    "\n",
    "$=log(E_\\theta[p(D_{new})])$"
   ]
  },
  {
   "cell_type": "code",
   "execution_count": null,
   "id": "906d1d1c-1df1-46b7-a0eb-64087b5c5ae3",
   "metadata": {},
   "outputs": [
    {
     "ename": "RuntimeError",
     "evalue": "Expected all tensors to be on the same device, but found at least two devices, cpu and cuda:6! (when checking argument for argument other in method wrapper_CUDA_logaddexp)",
     "output_type": "error",
     "traceback": [
      "\u001b[0;31m---------------------------------------------------------------------------\u001b[0m",
      "\u001b[0;31mRuntimeError\u001b[0m                              Traceback (most recent call last)",
      "Cell \u001b[0;32mIn[9], line 13\u001b[0m\n\u001b[1;32m     11\u001b[0m     \u001b[38;5;28mprint\u001b[39m(\u001b[38;5;124mf\u001b[39m\u001b[38;5;124m'\u001b[39m\u001b[38;5;132;01m{\u001b[39;00mPPC_LL\u001b[38;5;132;01m=}\u001b[39;00m\u001b[38;5;124m'\u001b[39m)\n\u001b[1;32m     12\u001b[0m     \u001b[38;5;28;01mreturn\u001b[39;00m PPC_LL\n\u001b[0;32m---> 13\u001b[0m \u001b[43mlog_posterior_predictive_check\u001b[49m\u001b[43m(\u001b[49m\u001b[43mmodel\u001b[49m\u001b[43m,\u001b[49m\u001b[43m \u001b[49m\u001b[43mval_data_loader\u001b[49m\u001b[43m)\u001b[49m\n",
      "Cell \u001b[0;32mIn[9], line 8\u001b[0m, in \u001b[0;36mlog_posterior_predictive_check\u001b[0;34m(model, val_data_loader, n_samples)\u001b[0m\n\u001b[1;32m      6\u001b[0m             mu, sigma \u001b[38;5;241m=\u001b[39m model(X\u001b[38;5;241m.\u001b[39mto(model\u001b[38;5;241m.\u001b[39mdevice))\n\u001b[1;32m      7\u001b[0m             normal \u001b[38;5;241m=\u001b[39m torch\u001b[38;5;241m.\u001b[39mdistributions\u001b[38;5;241m.\u001b[39mnormal\u001b[38;5;241m.\u001b[39mNormal(mu, sigma)\n\u001b[0;32m----> 8\u001b[0m             PPC_LL \u001b[38;5;241m=\u001b[39m \u001b[43mtorch\u001b[49m\u001b[38;5;241;43m.\u001b[39;49m\u001b[43mlogaddexp\u001b[49m\u001b[43m(\u001b[49m\u001b[43mPPC_LL\u001b[49m\u001b[43m,\u001b[49m\u001b[43m \u001b[49m\u001b[43mnormal\u001b[49m\u001b[38;5;241;43m.\u001b[39;49m\u001b[43mlog_prob\u001b[49m\u001b[43m(\u001b[49m\u001b[43my\u001b[49m\u001b[38;5;241;43m.\u001b[39;49m\u001b[43mto\u001b[49m\u001b[43m(\u001b[49m\u001b[43mmodel\u001b[49m\u001b[38;5;241;43m.\u001b[39;49m\u001b[43mdevice\u001b[49m\u001b[43m)\u001b[49m\u001b[43m)\u001b[49m\u001b[38;5;241;43m.\u001b[39;49m\u001b[43msum\u001b[49m\u001b[43m(\u001b[49m\u001b[43m)\u001b[49m\u001b[43m)\u001b[49m\n\u001b[1;32m      9\u001b[0m     PPC_LL \u001b[38;5;241m=\u001b[39m PPC_LL\u001b[38;5;241m-\u001b[39mtorch\u001b[38;5;241m.\u001b[39mlog(n_samples\u001b[38;5;241m*\u001b[39m\u001b[38;5;28mlen\u001b[39m(val_data_loader\u001b[38;5;241m.\u001b[39mdataset))\n\u001b[1;32m     10\u001b[0m PPC_LL \u001b[38;5;241m=\u001b[39m PPC_LL\u001b[38;5;241m.\u001b[39mitem()\n",
      "\u001b[0;31mRuntimeError\u001b[0m: Expected all tensors to be on the same device, but found at least two devices, cpu and cuda:6! (when checking argument for argument other in method wrapper_CUDA_logaddexp)"
     ]
    },
    {
     "name": "stdout",
     "output_type": "stream",
     "text": [
      "> \u001b[0;32m/tmp/ipykernel_2341479/2156579980.py\u001b[0m(8)\u001b[0;36mlog_posterior_predictive_check\u001b[0;34m()\u001b[0m\n",
      "\u001b[0;32m      6 \u001b[0;31m                \u001b[0mmu\u001b[0m\u001b[0;34m,\u001b[0m \u001b[0msigma\u001b[0m \u001b[0;34m=\u001b[0m \u001b[0mmodel\u001b[0m\u001b[0;34m(\u001b[0m\u001b[0mX\u001b[0m\u001b[0;34m.\u001b[0m\u001b[0mto\u001b[0m\u001b[0;34m(\u001b[0m\u001b[0mmodel\u001b[0m\u001b[0;34m.\u001b[0m\u001b[0mdevice\u001b[0m\u001b[0;34m)\u001b[0m\u001b[0;34m)\u001b[0m\u001b[0;34m\u001b[0m\u001b[0;34m\u001b[0m\u001b[0m\n",
      "\u001b[0m\u001b[0;32m      7 \u001b[0;31m                \u001b[0mnormal\u001b[0m \u001b[0;34m=\u001b[0m \u001b[0mtorch\u001b[0m\u001b[0;34m.\u001b[0m\u001b[0mdistributions\u001b[0m\u001b[0;34m.\u001b[0m\u001b[0mnormal\u001b[0m\u001b[0;34m.\u001b[0m\u001b[0mNormal\u001b[0m\u001b[0;34m(\u001b[0m\u001b[0mmu\u001b[0m\u001b[0;34m,\u001b[0m \u001b[0msigma\u001b[0m\u001b[0;34m)\u001b[0m\u001b[0;34m\u001b[0m\u001b[0;34m\u001b[0m\u001b[0m\n",
      "\u001b[0m\u001b[0;32m----> 8 \u001b[0;31m                \u001b[0mPPC_LL\u001b[0m \u001b[0;34m=\u001b[0m \u001b[0mtorch\u001b[0m\u001b[0;34m.\u001b[0m\u001b[0mlogaddexp\u001b[0m\u001b[0;34m(\u001b[0m\u001b[0mPPC_LL\u001b[0m\u001b[0;34m,\u001b[0m \u001b[0mnormal\u001b[0m\u001b[0;34m.\u001b[0m\u001b[0mlog_prob\u001b[0m\u001b[0;34m(\u001b[0m\u001b[0my\u001b[0m\u001b[0;34m.\u001b[0m\u001b[0mto\u001b[0m\u001b[0;34m(\u001b[0m\u001b[0mmodel\u001b[0m\u001b[0;34m.\u001b[0m\u001b[0mdevice\u001b[0m\u001b[0;34m)\u001b[0m\u001b[0;34m)\u001b[0m\u001b[0;34m.\u001b[0m\u001b[0msum\u001b[0m\u001b[0;34m(\u001b[0m\u001b[0;34m)\u001b[0m\u001b[0;34m)\u001b[0m\u001b[0;34m\u001b[0m\u001b[0;34m\u001b[0m\u001b[0m\n",
      "\u001b[0m\u001b[0;32m      9 \u001b[0;31m        \u001b[0mPPC_LL\u001b[0m \u001b[0;34m=\u001b[0m \u001b[0mPPC_LL\u001b[0m\u001b[0;34m-\u001b[0m\u001b[0mtorch\u001b[0m\u001b[0;34m.\u001b[0m\u001b[0mlog\u001b[0m\u001b[0;34m(\u001b[0m\u001b[0mn_samples\u001b[0m\u001b[0;34m*\u001b[0m\u001b[0mlen\u001b[0m\u001b[0;34m(\u001b[0m\u001b[0mval_data_loader\u001b[0m\u001b[0;34m.\u001b[0m\u001b[0mdataset\u001b[0m\u001b[0;34m)\u001b[0m\u001b[0;34m)\u001b[0m\u001b[0;34m\u001b[0m\u001b[0;34m\u001b[0m\u001b[0m\n",
      "\u001b[0m\u001b[0;32m     10 \u001b[0;31m    \u001b[0mPPC_LL\u001b[0m \u001b[0;34m=\u001b[0m \u001b[0mPPC_LL\u001b[0m\u001b[0;34m.\u001b[0m\u001b[0mitem\u001b[0m\u001b[0;34m(\u001b[0m\u001b[0;34m)\u001b[0m\u001b[0;34m\u001b[0m\u001b[0;34m\u001b[0m\u001b[0m\n",
      "\u001b[0m\n"
     ]
    }
   ],
   "source": [
    "def log_posterior_predictive_check(model, val_data_loader, n_samples = 100):\n",
    "    PPC_LL = torch.tensor(0)\n",
    "    with torch.inference_mode():\n",
    "        for i in range(n_samples):\n",
    "            for X, y in val_data_loader:\n",
    "                mu, sigma = model(X.to(model.device))\n",
    "                normal = torch.distributions.normal.Normal(mu, sigma)\n",
    "                PPC_LL = torch.logaddexp(PPC_LL, normal.log_prob(y.to(model.device)).sum())\n",
    "        PPC_LL = PPC_LL-torch.log(n_samples*len(val_data_loader.dataset))\n",
    "    PPC_LL = PPC_LL.item()\n",
    "    print(f'{PPC_LL=}')\n",
    "    return PPC_LL\n",
    "log_posterior_predictive_check(model, val_data_loader)"
   ]
  },
  {
   "cell_type": "markdown",
   "id": "1fecbb60-b678-41ba-a448-b420d0b1c108",
   "metadata": {},
   "source": [
    "## Scratch Space for Developing and Debugging:"
   ]
  },
  {
   "cell_type": "code",
   "execution_count": null,
   "id": "14c30a35-21c0-4d60-a544-4bae815eaa7f",
   "metadata": {},
   "outputs": [],
   "source": [
    "data_iter = iter(val_data_loader)\n",
    "inputs, outputs = next(data_iter)\n",
    "print(f'{inputs.shape=}, {outputs.shape=}')"
   ]
  },
  {
   "cell_type": "code",
   "execution_count": null,
   "id": "268c6611-bd09-48d3-ab0c-29779dcee999",
   "metadata": {},
   "outputs": [],
   "source": [
    "pred_mu, pred_sigma = get_BNN_pred_distribution(model, inputs.to(model.device), n_samples=10)\n",
    "pred_distribution = torch.distributions.normal.Normal(pred_mu, pred_sigma)\n",
    "print(f'{pred_distribution=}')"
   ]
  },
  {
   "cell_type": "code",
   "execution_count": null,
   "id": "07615816-c86e-417f-9586-530aa4071bda",
   "metadata": {},
   "outputs": [],
   "source": [
    "samples = pred_distribution.sample()"
   ]
  },
  {
   "cell_type": "code",
   "execution_count": null,
   "id": "5608257e-52e9-4f66-bd0d-49c3d7788e48",
   "metadata": {},
   "outputs": [],
   "source": [
    "samples = samples[:, None]"
   ]
  },
  {
   "cell_type": "code",
   "execution_count": null,
   "id": "2787cc5c-2a52-42b9-8807-49a45124f2b0",
   "metadata": {},
   "outputs": [],
   "source": [
    "print(f'{outputs.shape=}')\n",
    "print(f'{samples.shape=}')\n",
    "print(f'{pred_distribution.loc.shape=}')"
   ]
  },
  {
   "cell_type": "code",
   "execution_count": null,
   "id": "b689370f-98b6-4918-9f13-e1db661fe72d",
   "metadata": {},
   "outputs": [],
   "source": [
    "ll = pred_distribution.log_prob(outputs.to(model.device))\n",
    "print(f'{ll.shape=}')"
   ]
  }
 ],
 "metadata": {
  "kernelspec": {
   "display_name": "Python 3 (ipykernel)",
   "language": "python",
   "name": "python3"
  },
  "language_info": {
   "codemirror_mode": {
    "name": "ipython",
    "version": 3
   },
   "file_extension": ".py",
   "mimetype": "text/x-python",
   "name": "python",
   "nbconvert_exporter": "python",
   "pygments_lexer": "ipython3",
   "version": "3.10.0"
  }
 },
 "nbformat": 4,
 "nbformat_minor": 5
}
