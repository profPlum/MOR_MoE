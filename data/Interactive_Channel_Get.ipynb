{
 "cells": [
  {
   "cell_type": "code",
   "execution_count": null,
   "metadata": {},
   "outputs": [],
   "source": [
    "import numpy as np\n",
    "from pyJHTDB import libJHTDB\n",
    "import pyJHTDB\n",
    "import ctypes"
   ]
  },
  {
   "cell_type": "code",
   "execution_count": null,
   "metadata": {},
   "outputs": [],
   "source": [
    "# toy cutout of big channel\n",
    "'''\n",
    "params = {\"dataset\": \"channel5200\", \"function\": \"u\", \"output_filename\": \"channel\",\n",
    "          \"stridet\": 1, \"stridex\": 1, \"stridey\": 1, \"stridez\": 1, \"ts\": 1, \"te\": 11, \"filter_width\": 1,\n",
    "          \"token\": \"gov.sandia.dsdeigh-59a9eb2a\", \"xe\": 10, \"xs\": 1, \"ye\": 10, \"ys\": 1,\n",
    "          \"ze\": 10, \"zs\": 1}\n",
    "''';"
   ]
  },
  {
   "cell_type": "code",
   "execution_count": null,
   "metadata": {},
   "outputs": [],
   "source": [
    "'''\n",
    "# bigger filter\n",
    "params = {\"dataset\": \"channel\", \"function\": \"u\", \"output_filename\": \"channel\",\n",
    "          \"stridet\": 1, \"stridex\": 20, \"stridey\": 20, \"stridez\": 20, \"ts\": 1, \"te\": 4000, \"filter_width\": 40,\n",
    "          \"token\": \"gov.sandia.dsdeigh-59a9eb2a\", \"xe\": 2048, \"xs\": 1, \"ye\": 512, \"ys\": 1,\n",
    "          \"ze\": 1536, \"zs\": 1}\n",
    "''';"
   ]
  },
  {
   "cell_type": "code",
   "execution_count": null,
   "metadata": {},
   "outputs": [],
   "source": [
    "# no filter\n",
    "params = {\"dataset\": \"channel\", \"function\": \"u\", \"output_filename\": \"channel\",\n",
    "          \"stridet\": 1, \"stridex\": 20, \"stridey\": 20, \"stridez\": 20, \"ts\": 1, \"te\": 4000, \"filter_width\": 1,\n",
    "          \"token\": \"gov.sandia.dsdeigh-59a9eb2a\", \"xe\": 2048, \"xs\": 1, \"ye\": 512, \"ys\": 1,\n",
    "          \"ze\": 1536, \"zs\": 1}"
   ]
  },
  {
   "cell_type": "code",
   "execution_count": null,
   "metadata": {},
   "outputs": [],
   "source": [
    "# big channel\n",
    "'''\n",
    "params = {\"dataset\": \"channel5200\", \"function\": \"u\", \"output_filename\": \"channel\",\n",
    "          \"stridet\": 1, \"stridex\": 20*5, \"stridey\": 20*3, \"stridez\": 20*5, \"ts\": 1, \"te\": 11, \"filter_width\": 20*4,\n",
    "          \"token\": \"gov.sandia.dsdeigh-59a9eb2a\", \"xe\": 2048*5, \"xs\": 1, \"ye\": 512*3, \"ys\": 1,\n",
    "          \"ze\": 1536*5, \"zs\": 1}\n",
    "''';"
   ]
  },
  {
   "cell_type": "markdown",
   "metadata": {},
   "source": [
    "Big Channel Dimensions: 10240 × 1536 × 7680"
   ]
  },
  {
   "cell_type": "code",
   "execution_count": null,
   "metadata": {},
   "outputs": [],
   "source": [
    "auth_token=params[\"token\"]\n",
    "tstart=int(params.get(\"ts\"))\n",
    "tend=int(params.get(\"te\"))\n",
    "tstep=int(params.get(\"stridet\"))\n",
    "xstart=int(params.get(\"xs\"))\n",
    "ystart=int(params.get(\"ys\"))\n",
    "zstart=int(params.get(\"zs\"))\n",
    "xend=int(params.get(\"xe\"))\n",
    "yend=int(params.get(\"ye\"))\n",
    "zend=int(params.get(\"ze\"))\n",
    "xstep=int(params.get(\"stridex\",1))\n",
    "ystep=int(params.get(\"stridey\",1))\n",
    "zstep=int(params.get(\"stridez\",1))\n",
    "Filter_Width=int(params.get(\"filter_width\",1))\n",
    "time_step=int(params.get(\"stridet\",0))\n",
    "fields=params.get(\"function\",\"u\")\n",
    "data_set=params.get(\"dataset\",\"isotropic1024coarse\")\n",
    "output_filename=params.get(\"output_filename\",data_set)"
   ]
  },
  {
   "cell_type": "code",
   "execution_count": null,
   "metadata": {},
   "outputs": [],
   "source": [
    "import math\n",
    "dims = (xend//xstep, yend//ystep, zend//zstep, tend//tstep, 3)\n",
    "total_bytes = math.prod(dims)*4 # x4 for double byte size\n",
    "total_GBs = total_bytes/1e9\n",
    "print(total_GBs)"
   ]
  },
  {
   "cell_type": "markdown",
   "metadata": {},
   "source": [
    "Big Channel Dimensions: 10240 × 1536 × 7680"
   ]
  },
  {
   "cell_type": "code",
   "execution_count": null,
   "metadata": {},
   "outputs": [],
   "source": [
    "print(params)"
   ]
  },
  {
   "cell_type": "code",
   "execution_count": null,
   "metadata": {},
   "outputs": [],
   "source": [
    "import os\n",
    "try: os.mkdir('turbulence_f1_output')\n",
    "except: pass\n",
    "os.chdir('turbulence_f1_output')"
   ]
  },
  {
   "cell_type": "markdown",
   "metadata": {},
   "source": [
    "## Direct Approach"
   ]
  },
  {
   "cell_type": "code",
   "execution_count": null,
   "metadata": {},
   "outputs": [],
   "source": [
    "'''\n",
    "lJHTDB = libJHTDB()\n",
    "lJHTDB.initialize()\n",
    "lJHTDB.add_token(auth_token)\n",
    "\n",
    "result = lJHTDB.getbigCutout(\n",
    "            data_set=data_set, fields=fields, t_start=tstart, t_end=tend, t_step=tstep,\n",
    "            start=np.array([xstart, ystart, zstart], dtype = int),\n",
    "            end=np.array([xend, yend, zend], dtype = int),\n",
    "            step=np.array([xstep, ystep, zstep], dtype = int),\n",
    "            filter_width=Filter_Width,filename=f'{output_filename}')\n",
    "print(f'result.shape={result.shape}')\n",
    "lJHTDB.finalize()\n",
    "''';"
   ]
  },
  {
   "cell_type": "markdown",
   "metadata": {},
   "source": [
    "## Indirect Approach"
   ]
  },
  {
   "cell_type": "code",
   "execution_count": null,
   "metadata": {},
   "outputs": [],
   "source": [
    "#papermill_description=Downloading\n",
    "%tb\n",
    "lJHTDB = libJHTDB()\n",
    "lJHTDB.initialize()\n",
    "#lJHTDB.lib.turblibSetExitOnError(ctypes.c_int(1));\n",
    "lJHTDB.add_token(auth_token)\n",
    "\n",
    "tstep=1\n",
    "\n",
    "import numpy as np\n",
    "\n",
    "for t in range(1, 4001): #reversed(np.linspace(1, 4000, num=24, dtype=int)):\n",
    "    fn = f'{output_filename}_t={t}'\n",
    "    if os.path.exists(f'{fn}.h5'):\n",
    "        if os.path.getsize(f'{fn}.h5')>100: continue\n",
    "        else: \n",
    "            os.remove(f'{fn}.h5')\n",
    "            os.remove(f'{fn}.xmf')\n",
    "    tend=tstart=t\n",
    "\n",
    "    print(f'downloading: {fn}')\n",
    "\n",
    "    ## \"filename\" parameter is the file names of output files, if filename='N/A', no files will be written. \n",
    "    ##             For example, if filename='results', the function will write \"results.h5\" and \"results.xmf\".\n",
    "    ## The function only returns the data at the last time step within [t_start:t_step:t_end]\n",
    "    ## The function only returns the data in the last field. For example, result=p if field=[up].\n",
    "    result = lJHTDB.getbigCutout(\n",
    "            data_set=data_set, fields=fields, t_start=tstart, t_end=tend, t_step=tstep,\n",
    "            start=np.array([xstart, ystart, zstart], dtype = int),\n",
    "            end=np.array([xend, yend, zend], dtype = int),\n",
    "            step=np.array([xstep, ystep, zstep], dtype = int),\n",
    "            filter_width=Filter_Width,filename=f'{output_filename}_t={t}')\n",
    "    print(f'result.shape={result.shape}')\n",
    "lJHTDB.finalize()"
   ]
  },
  {
   "cell_type": "code",
   "execution_count": null,
   "metadata": {},
   "outputs": [],
   "source": []
  },
  {
   "cell_type": "code",
   "execution_count": null,
   "metadata": {},
   "outputs": [],
   "source": []
  },
  {
   "cell_type": "code",
   "execution_count": null,
   "metadata": {},
   "outputs": [],
   "source": [
    "os.getcwd()"
   ]
  },
  {
   "cell_type": "code",
   "execution_count": null,
   "metadata": {},
   "outputs": [],
   "source": []
  }
 ],
 "metadata": {
  "kernelspec": {
   "display_name": "Python 3 (ipykernel)",
   "language": "python",
   "name": "python3"
  },
  "language_info": {
   "codemirror_mode": {
    "name": "ipython",
    "version": 3
   },
   "file_extension": ".py",
   "mimetype": "text/x-python",
   "name": "python",
   "nbconvert_exporter": "python",
   "pygments_lexer": "ipython3",
   "version": "3.10.0"
  }
 },
 "nbformat": 4,
 "nbformat_minor": 4
}
